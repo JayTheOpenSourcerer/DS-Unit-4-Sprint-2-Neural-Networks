{
  "nbformat": 4,
  "nbformat_minor": 0,
  "metadata": {
    "colab": {
      "name": "LS_DS_432_Backprop_Assignment_JM.ipynb",
      "version": "0.3.2",
      "provenance": [],
      "collapsed_sections": [],
      "include_colab_link": true
    },
    "language_info": {
      "codemirror_mode": {
        "name": "ipython",
        "version": 3
      },
      "file_extension": ".py",
      "mimetype": "text/x-python",
      "name": "python",
      "nbconvert_exporter": "python",
      "pygments_lexer": "ipython3",
      "version": "3.7.3"
    },
    "kernelspec": {
      "display_name": "Python 3",
      "language": "python",
      "name": "python3"
    }
  },
  "cells": [
    {
      "cell_type": "markdown",
      "metadata": {
        "id": "view-in-github",
        "colab_type": "text"
      },
      "source": [
        "<a href=\"https://colab.research.google.com/github/JayTheOpenSourcerer/DS-Unit-4-Sprint-2-Neural-Networks/blob/master/LS_DS_432_Backprop_Assignment_JM.ipynb\" target=\"_parent\"><img src=\"https://colab.research.google.com/assets/colab-badge.svg\" alt=\"Open In Colab\"/></a>"
      ]
    },
    {
      "cell_type": "markdown",
      "metadata": {
        "colab_type": "text",
        "id": "NGGrt9EYlCqY"
      },
      "source": [
        "# Backpropagation Practice\n",
        "\n",
        "Implement a 3 input, 4 node hidden-layer, 1 output node Multilayer Perceptron on the following dataset:\n",
        "\n",
        "| x1 | x2 | x3 | y |\n",
        "|----|----|----|---|\n",
        "| 0  | 0  | 1  | 0 |\n",
        "| 0  | 1  | 1  | 1 |\n",
        "| 1  | 0  | 1  | 1 |\n",
        "| 0  | 1  | 0  | 1 |\n",
        "| 1  | 0  | 0  | 1 |\n",
        "| 1  | 1  | 1  | 0 |\n",
        "| 0  | 0  | 0  | 0 |\n",
        "\n",
        "If you look at the data you'll notice that the first two columns behave like an XOR gate while the last column is mostly just noise. Remember that creating an XOR gate was what the perceptron was criticized for not being able to learn. "
      ]
    },
    {
      "cell_type": "code",
      "metadata": {
        "colab_type": "code",
        "id": "nEREYT-3wI1f",
        "colab": {}
      },
      "source": [
        "# training data\n",
        "\n",
        "import numpy as np\n",
        "\n",
        "X = np.array([[0,0,1],[0,1,1],[1,0,1],[0,1,0], [1,0,0], [1,1,1], [0,0,0]])\n",
        "y = [[0], [1], [1], [1], [1], [0], [0]]\n"
      ],
      "execution_count": 0,
      "outputs": []
    },
    {
      "cell_type": "code",
      "metadata": {
        "id": "nHcAC5TJm4Oe",
        "colab_type": "code",
        "colab": {}
      },
      "source": [
        "class NeuralNetwork:\n",
        "    def __init__(self):\n",
        "        # Set up Architecture of Neural Network\n",
        "        self.input = 3\n",
        "        self.hiddenNodes = 4\n",
        "        self.outputNodes = 1\n",
        "        \n",
        "        # Initial Weights\n",
        "        # 3x4 Matrix Array for the First Layer\n",
        "        self.weights1 = np.random.randn(self.input,self.hiddenNodes)\n",
        "        # 4x1 Matrix Array for Hidden to Output\n",
        "        self.weights2 = np.random.randn(self.hiddenNodes, self.outputNodes)"
      ],
      "execution_count": 0,
      "outputs": []
    },
    {
      "cell_type": "code",
      "metadata": {
        "id": "jt29HL4am4Om",
        "colab_type": "code",
        "outputId": "63b17112-99f5-46d9-c095-b5445b261b43",
        "colab": {
          "base_uri": "https://localhost:8080/",
          "height": 170
        }
      },
      "source": [
        "nn = NeuralNetwork()\n",
        "\n",
        "print(\"Layer 1 weights: \\n\", nn.weights1)\n",
        "print(\"Layer 2 weights: \\n\", nn.weights2)"
      ],
      "execution_count": 3,
      "outputs": [
        {
          "output_type": "stream",
          "text": [
            "Layer 1 weights: \n",
            " [[ 0.67131221  1.25483443 -1.72001519  0.94218428]\n",
            " [ 0.47503936  0.43107636 -1.9693111   1.73454606]\n",
            " [ 2.78983913  0.76438236 -0.78323479  1.16165297]]\n",
            "Layer 2 weights: \n",
            " [[-0.62352967]\n",
            " [ 0.37031907]\n",
            " [ 1.19338059]\n",
            " [ 1.35845346]]\n"
          ],
          "name": "stdout"
        }
      ]
    },
    {
      "cell_type": "code",
      "metadata": {
        "id": "knmGL890m4O2",
        "colab_type": "code",
        "colab": {}
      },
      "source": [
        "class NeuralNetwork:\n",
        "    def __init__(self):\n",
        "        # Set up Architecture of Neural Network\n",
        "        self.input = 3\n",
        "        self.hiddenNodes = 4\n",
        "        self.outputNodes = 1\n",
        "        \n",
        "        # Initial Weights\n",
        "        # 3x4 Matrix Array for the First Layer\n",
        "        self.weights1 = np.random.randn(self.input,self.hiddenNodes)\n",
        "        # 4x1 Matrix Array for Hidden to Output\n",
        "        self.weights2 = np.random.randn(self.hiddenNodes, self.outputNodes)\n",
        "    \n",
        "    def sigmoid(self, x):\n",
        "        return 1 / (1+np.exp(-x))\n",
        "    \n",
        "    def feed_forward(self,X):\n",
        "        \"\"\"\n",
        "        Calculate the NN inference using feed forward.\n",
        "        \"\"\"\n",
        "        \n",
        "        # Weighted sum of inputs & hidden\n",
        "        self.hidden_sum = np.dot(X, self.weights1)\n",
        "        \n",
        "        # Activations of weighted sum\n",
        "        self.activated_hidden = self.sigmoid(self.hidden_sum)\n",
        "        \n",
        "        # Weighted sum between hidden and output\n",
        "        self.output_sum = np.dot(self.activated_hidden, self.weights2)\n",
        "        \n",
        "        # Final Activation of output\n",
        "        self.activated_output = self.sigmoid(self.output_sum)\n",
        "        \n",
        "        return self.activated_output"
      ],
      "execution_count": 0,
      "outputs": []
    },
    {
      "cell_type": "code",
      "metadata": {
        "id": "WyR0eU3um4O8",
        "colab_type": "code",
        "outputId": "d834f178-ff09-4a87-fd86-6d8cd11fff9b",
        "colab": {
          "base_uri": "https://localhost:8080/",
          "height": 51
        }
      },
      "source": [
        "# generate an output\n",
        "\n",
        "nn = NeuralNetwork()\n",
        "\n",
        "print(X[0])\n",
        "output = nn.feed_forward(X[0])\n",
        "print(\"output\", output)"
      ],
      "execution_count": 5,
      "outputs": [
        {
          "output_type": "stream",
          "text": [
            "[0 0 1]\n",
            "output [0.70205605]\n"
          ],
          "name": "stdout"
        }
      ]
    },
    {
      "cell_type": "code",
      "metadata": {
        "id": "wghuFMyrm4PG",
        "colab_type": "code",
        "outputId": "17150d68-6ebe-4a90-a77c-27e442956ae9",
        "colab": {
          "base_uri": "https://localhost:8080/",
          "height": 255
        }
      },
      "source": [
        "# calculate error\n",
        "\n",
        "output_all = nn.feed_forward(X)\n",
        "error_all = y - output_all\n",
        "print(output_all)\n",
        "print(error_all)"
      ],
      "execution_count": 6,
      "outputs": [
        {
          "output_type": "stream",
          "text": [
            "[[0.70205605]\n",
            " [0.68913708]\n",
            " [0.66329354]\n",
            " [0.33415583]\n",
            " [0.35971292]\n",
            " [0.65462917]\n",
            " [0.37226909]]\n",
            "[[-0.70205605]\n",
            " [ 0.31086292]\n",
            " [ 0.33670646]\n",
            " [ 0.66584417]\n",
            " [ 0.64028708]\n",
            " [-0.65462917]\n",
            " [-0.37226909]]\n"
          ],
          "name": "stdout"
        }
      ]
    },
    {
      "cell_type": "code",
      "metadata": {
        "id": "rWwwldNTm4PQ",
        "colab_type": "code",
        "colab": {}
      },
      "source": [
        "class NeuralNetwork:\n",
        "    def __init__(self):\n",
        "        # Set up Architecture of Neural Network\n",
        "        self.input = 3\n",
        "        self.hiddenNodes = 4\n",
        "        self.outputNodes = 1\n",
        "        \n",
        "        # Initial Weights\n",
        "        # 3x4 Matrix Array for the First Layer\n",
        "        self.weights1 = np.random.randn(self.input,self.hiddenNodes)\n",
        "        # 4x1 Matrix Array for Hidden to Output\n",
        "        self.weights2 = np.random.randn(self.hiddenNodes, self.outputNodes)\n",
        "    \n",
        "    def sigmoid(self, x):\n",
        "        return 1 / (1+np.exp(-x))\n",
        "    \n",
        "    def sigmoidPrime(self, x):\n",
        "        return x * (1 - x)\n",
        "    \n",
        "    def feed_forward(self,X):\n",
        "        \"\"\"\n",
        "        Calculate the NN inference using feed forward.\n",
        "        \"\"\"\n",
        "        \n",
        "        # Weighted sum of inputs & hidden\n",
        "        self.hidden_sum = np.dot(X, self.weights1)\n",
        "        \n",
        "        # Activations of weighted sum\n",
        "        self.activated_hidden = self.sigmoid(self.hidden_sum)\n",
        "        \n",
        "        # Weighted sum between hidden and output\n",
        "        self.output_sum = np.dot(self.activated_hidden, self.weights2)\n",
        "        \n",
        "        # Final Activation of output\n",
        "        self.activated_output = self.sigmoid(self.output_sum)\n",
        "        \n",
        "        return self.activated_output\n",
        "    \n",
        "    def backward(self, X, y, o):\n",
        "        \"\"\"\n",
        "        Backward propagate through the network\n",
        "        \"\"\"\n",
        "        self.o_error = y - o #error in output\n",
        "        self.o_delta = self.o_error * self.sigmoidPrime(o) # apply derivative of sigmoid to error\n",
        "        \n",
        "        self.z2_error = self.o_delta.dot(self.weights2.T) # z2 error: how much our hidden layer weights were off\n",
        "        self.z2_delta = self.z2_error*self.sigmoidPrime(self.activated_hidden)\n",
        "        \n",
        "        self.weights1 += X.T.dot(self.z2_delta) #Adjust first set (input => hidden) weights\n",
        "        self.weights2 += self.activated_hidden.T.dot(self.o_delta) #adjust second set (hidden => output) weights\n",
        "        \n",
        "    def train(self, X, y):\n",
        "        o = self.feed_forward(X)\n",
        "        self.backward(X, y, o)"
      ],
      "execution_count": 0,
      "outputs": []
    },
    {
      "cell_type": "code",
      "metadata": {
        "id": "01WVvxl1m4PW",
        "colab_type": "code",
        "outputId": "3ba5c066-d051-4b65-a997-a4f080d96a79",
        "colab": {
          "base_uri": "https://localhost:8080/",
          "height": 1000
        }
      },
      "source": [
        "nn = NeuralNetwork()\n",
        "\n",
        "for i in range(1000):\n",
        "    if ((i+1) % 100 ==0):\n",
        "        print('+' + '---' * 3 + f'EPOCH {i+1}' + '---'*3 + '+')\n",
        "        print('Predicted Output: \\n', str(nn.feed_forward(X)))\n",
        "        print(\"Loss: \\n\", str(np.mean(np.square(y - nn.feed_forward(X)))))\n",
        "    nn.train(X,y)"
      ],
      "execution_count": 8,
      "outputs": [
        {
          "output_type": "stream",
          "text": [
            "+---------EPOCH 100---------+\n",
            "Predicted Output: \n",
            " [[0.17808083]\n",
            " [0.65730825]\n",
            " [0.628729  ]\n",
            " [0.80696067]\n",
            " [0.79371981]\n",
            " [0.72003625]\n",
            " [0.3469893 ]]\n",
            "Loss: \n",
            " 0.14366600762554968\n",
            "+---------EPOCH 200---------+\n",
            "Predicted Output: \n",
            " [[0.09967404]\n",
            " [0.69584229]\n",
            " [0.6978999 ]\n",
            " [0.82939665]\n",
            " [0.8198151 ]\n",
            " [0.57963043]\n",
            " [0.18421809]]\n",
            "Loss: \n",
            " 0.08931301974385471\n",
            "+---------EPOCH 300---------+\n",
            "Predicted Output: \n",
            " [[0.04435254]\n",
            " [0.83568465]\n",
            " [0.84275756]\n",
            " [0.87784462]\n",
            " [0.87560596]\n",
            " [0.26215021]\n",
            " [0.09366487]]\n",
            "Loss: \n",
            " 0.023083360394696793\n",
            "+---------EPOCH 400---------+\n",
            "Predicted Output: \n",
            " [[0.02645679]\n",
            " [0.89366644]\n",
            " [0.8963414 ]\n",
            " [0.91582794]\n",
            " [0.91406191]\n",
            " [0.16409121]\n",
            " [0.06950415]]\n",
            "Loss: \n",
            " 0.009854133764099984\n",
            "+---------EPOCH 500---------+\n",
            "Predicted Output: \n",
            " [[0.01945227]\n",
            " [0.91732928]\n",
            " [0.9188542 ]\n",
            " [0.93281038]\n",
            " [0.93147839]\n",
            " [0.12601629]\n",
            " [0.0581086 ]]\n",
            "Loss: \n",
            " 0.006037693336278478\n",
            "+---------EPOCH 600---------+\n",
            "Predicted Output: \n",
            " [[0.01569951]\n",
            " [0.93051208]\n",
            " [0.93156434]\n",
            " [0.94263196]\n",
            " [0.94158207]\n",
            " [0.10520644]\n",
            " [0.05106767]]\n",
            "Loss: \n",
            " 0.0043055048937375665\n",
            "+---------EPOCH 700---------+\n",
            "Predicted Output: \n",
            " [[0.01333341]\n",
            " [0.93910326]\n",
            " [0.93990531]\n",
            " [0.94917833]\n",
            " [0.9483154 ]\n",
            " [0.09179626]\n",
            " [0.04614127]]\n",
            "Loss: \n",
            " 0.0033296107083920132\n",
            "+---------EPOCH 800---------+\n",
            "Predicted Output: \n",
            " [[0.01169019]\n",
            " [0.94523755]\n",
            " [0.94588624]\n",
            " [0.95392663]\n",
            " [0.95319447]\n",
            " [0.08229454]\n",
            " [0.04243637]]\n",
            "Loss: \n",
            " 0.0027072335185742914\n",
            "+---------EPOCH 900---------+\n",
            "Predicted Output: \n",
            " [[0.01047403]\n",
            " [0.94988604]\n",
            " [0.95043148]\n",
            " [0.95756787]\n",
            " [0.95693165]\n",
            " [0.07513534]\n",
            " [0.03951473]]\n",
            "Loss: \n",
            " 0.002277179147371537\n",
            "+---------EPOCH 1000---------+\n",
            "Predicted Output: \n",
            " [[0.00953255]\n",
            " [0.95355879]\n",
            " [0.9540301 ]\n",
            " [0.96047214]\n",
            " [0.95990909]\n",
            " [0.06950408]\n",
            " [0.03713189]]\n",
            "Loss: \n",
            " 0.0019628877249865777\n"
          ],
          "name": "stdout"
        }
      ]
    },
    {
      "cell_type": "markdown",
      "metadata": {
        "colab_type": "text",
        "id": "8b-r70o8p2Dm"
      },
      "source": [
        "## Try building/training a more complex MLP on a bigger dataset.\n",
        "\n",
        "Use the [MNIST dataset](http://yann.lecun.com/exdb/mnist/) to build the cannonical handwriting digit recognizer and see what kind of accuracy you can achieve. \n",
        "\n",
        "If you need inspiration, the internet is chalk-full of tutorials, but I want you to see how far you can get on your own first. I've linked to the original MNIST dataset above but it will probably be easier to download data through a neural network library. If you reference outside resources make sure you understand every line of code that you're using from other sources, and share with your fellow students helpful resources that you find.\n"
      ]
    },
    {
      "cell_type": "code",
      "metadata": {
        "id": "2CwqCYISm4Pg",
        "colab_type": "code",
        "colab": {
          "base_uri": "https://localhost:8080/",
          "height": 51
        },
        "outputId": "9b17cfd6-bc1f-4d1c-d6c4-4f4e89118b0e"
      },
      "source": [
        "import tensorflow as tf\n",
        "(x_train, y_train), (x_test, y_test) = tf.keras.datasets.mnist.load_data()"
      ],
      "execution_count": 9,
      "outputs": [
        {
          "output_type": "stream",
          "text": [
            "Downloading data from https://storage.googleapis.com/tensorflow/tf-keras-datasets/mnist.npz\n",
            "11493376/11490434 [==============================] - 0s 0us/step\n"
          ],
          "name": "stdout"
        }
      ]
    },
    {
      "cell_type": "code",
      "metadata": {
        "id": "nl9hzF1Vm4Pl",
        "colab_type": "code",
        "outputId": "a8a77bc7-8616-4923-e387-d3b717982e2a",
        "colab": {
          "base_uri": "https://localhost:8080/",
          "height": 303
        }
      },
      "source": [
        "import matplotlib.pyplot as plt\n",
        "%matplotlib inline\n",
        "image_index = 7777\n",
        "print(y_train[image_index])\n",
        "plt.imshow(x_train[image_index], cmap='Greys')"
      ],
      "execution_count": 10,
      "outputs": [
        {
          "output_type": "stream",
          "text": [
            "8\n"
          ],
          "name": "stdout"
        },
        {
          "output_type": "execute_result",
          "data": {
            "text/plain": [
              "<matplotlib.image.AxesImage at 0x7f853be00e10>"
            ]
          },
          "metadata": {
            "tags": []
          },
          "execution_count": 10
        },
        {
          "output_type": "display_data",
          "data": {
            "image/png": "[encoded data removed]",
            "text/plain": [
              "<Figure size 432x288 with 1 Axes>"
            ]
          },
          "metadata": {
            "tags": []
          }
        }
      ]
    },
    {
      "cell_type": "code",
      "metadata": {
        "id": "WPOvmYJIm4Pu",
        "colab_type": "code",
        "outputId": "8f4c8adf-750c-458b-e2fb-c9b6148debd2",
        "colab": {
          "base_uri": "https://localhost:8080/",
          "height": 34
        }
      },
      "source": [
        "x_train.shape"
      ],
      "execution_count": 11,
      "outputs": [
        {
          "output_type": "execute_result",
          "data": {
            "text/plain": [
              "(60000, 28, 28)"
            ]
          },
          "metadata": {
            "tags": []
          },
          "execution_count": 11
        }
      ]
    },
    {
      "cell_type": "code",
      "metadata": {
        "id": "CUNjQzdEm4P1",
        "colab_type": "code",
        "outputId": "9ec984cd-becb-4018-de84-e70ceafd0435",
        "colab": {
          "base_uri": "https://localhost:8080/",
          "height": 68
        }
      },
      "source": [
        "# Reshaping the array to 4-dims so that it can work with the Keras API\n",
        "x_train = x_train.reshape(x_train.shape[0], 28, 28, 1)\n",
        "x_test = x_test.reshape(x_test.shape[0], 28, 28, 1)\n",
        "input_shape = (28, 28, 1)\n",
        "# Making sure that the values are float so that we can get decimal points after division\n",
        "x_train = x_train.astype('float32')\n",
        "x_test = x_test.astype('float32')\n",
        "# Normalizing the RGB codes by dividing it to the max RGB value.\n",
        "x_train /= 255\n",
        "x_test /= 255\n",
        "print('x_train shape:', x_train.shape)\n",
        "print('Number of images in x_train', x_train.shape[0])\n",
        "print('Number of images in x_test', x_test.shape[0])"
      ],
      "execution_count": 12,
      "outputs": [
        {
          "output_type": "stream",
          "text": [
            "x_train shape: (60000, 28, 28, 1)\n",
            "Number of images in x_train 60000\n",
            "Number of images in x_test 10000\n"
          ],
          "name": "stdout"
        }
      ]
    },
    {
      "cell_type": "code",
      "metadata": {
        "id": "UIawQUZVm4QA",
        "colab_type": "code",
        "outputId": "fb96018a-2006-4f93-979d-4b7c3ea73ef7",
        "colab": {
          "base_uri": "https://localhost:8080/",
          "height": 292
        }
      },
      "source": [
        "# Importing the required Keras modules containing model and layers\n",
        "from keras.models import Sequential\n",
        "from keras.layers import Dense, Conv2D, Dropout, Flatten, MaxPooling2D\n",
        "# Creating a Sequential Model and adding the layers\n",
        "model = Sequential()\n",
        "model.add(Conv2D(28, kernel_size=(3,3), input_shape=input_shape))\n",
        "model.add(MaxPooling2D(pool_size=(2, 2)))\n",
        "model.add(Flatten()) # Flattening the 2D arrays for fully connected layers\n",
        "model.add(Dense(128, activation=tf.nn.relu))\n",
        "model.add(Dropout(0.2))\n",
        "model.add(Dense(10,activation=tf.nn.softmax))"
      ],
      "execution_count": 13,
      "outputs": [
        {
          "output_type": "stream",
          "text": [
            "Using TensorFlow backend.\n",
            "WARNING: Logging before flag parsing goes to stderr.\n",
            "W0717 15:46:30.095187 140211179018112 deprecation_wrapper.py:119] From /usr/local/lib/python3.6/dist-packages/keras/backend/tensorflow_backend.py:74: The name tf.get_default_graph is deprecated. Please use tf.compat.v1.get_default_graph instead.\n",
            "\n",
            "W0717 15:46:30.129237 140211179018112 deprecation_wrapper.py:119] From /usr/local/lib/python3.6/dist-packages/keras/backend/tensorflow_backend.py:517: The name tf.placeholder is deprecated. Please use tf.compat.v1.placeholder instead.\n",
            "\n",
            "W0717 15:46:30.145638 140211179018112 deprecation_wrapper.py:119] From /usr/local/lib/python3.6/dist-packages/keras/backend/tensorflow_backend.py:4138: The name tf.random_uniform is deprecated. Please use tf.random.uniform instead.\n",
            "\n",
            "W0717 15:46:30.194239 140211179018112 deprecation_wrapper.py:119] From /usr/local/lib/python3.6/dist-packages/keras/backend/tensorflow_backend.py:3976: The name tf.nn.max_pool is deprecated. Please use tf.nn.max_pool2d instead.\n",
            "\n",
            "W0717 15:46:30.232861 140211179018112 deprecation_wrapper.py:119] From /usr/local/lib/python3.6/dist-packages/keras/backend/tensorflow_backend.py:133: The name tf.placeholder_with_default is deprecated. Please use tf.compat.v1.placeholder_with_default instead.\n",
            "\n",
            "W0717 15:46:30.244989 140211179018112 deprecation.py:506] From /usr/local/lib/python3.6/dist-packages/keras/backend/tensorflow_backend.py:3445: calling dropout (from tensorflow.python.ops.nn_ops) with keep_prob is deprecated and will be removed in a future version.\n",
            "Instructions for updating:\n",
            "Please use `rate` instead of `keep_prob`. Rate should be set to `rate = 1 - keep_prob`.\n"
          ],
          "name": "stderr"
        }
      ]
    },
    {
      "cell_type": "code",
      "metadata": {
        "id": "S0nMELn2m4QI",
        "colab_type": "code",
        "outputId": "be8cb3e4-bd25-4b38-8b83-d0f50b13eda9",
        "colab": {
          "base_uri": "https://localhost:8080/",
          "height": 326
        }
      },
      "source": [
        "model.compile(optimizer='adam', \n",
        "              loss='sparse_categorical_crossentropy', \n",
        "              metrics=['accuracy'])\n",
        "model.fit(x=x_train,y=y_train, epochs=10)"
      ],
      "execution_count": 0,
      "outputs": [
        {
          "output_type": "stream",
          "text": [
            "W0717 15:46:30.286333 140211179018112 deprecation_wrapper.py:119] From /usr/local/lib/python3.6/dist-packages/keras/optimizers.py:790: The name tf.train.Optimizer is deprecated. Please use tf.compat.v1.train.Optimizer instead.\n",
            "\n",
            "W0717 15:46:30.323466 140211179018112 deprecation_wrapper.py:119] From /usr/local/lib/python3.6/dist-packages/keras/backend/tensorflow_backend.py:3341: The name tf.log is deprecated. Please use tf.math.log instead.\n",
            "\n",
            "W0717 15:46:30.461477 140211179018112 deprecation.py:323] From /usr/local/lib/python3.6/dist-packages/tensorflow/python/ops/math_grad.py:1250: add_dispatch_support.<locals>.wrapper (from tensorflow.python.ops.array_ops) is deprecated and will be removed in a future version.\n",
            "Instructions for updating:\n",
            "Use tf.where in 2.0, which has the same broadcast rule as np.where\n"
          ],
          "name": "stderr"
        },
        {
          "output_type": "stream",
          "text": [
            "Epoch 1/10\n",
            "60000/60000 [==============================] - 42s 708us/step - loss: 0.2098 - acc: 0.9367\n",
            "Epoch 2/10\n",
            "60000/60000 [==============================] - 42s 699us/step - loss: 0.0833 - acc: 0.9749\n",
            "Epoch 3/10\n",
            "60000/60000 [==============================] - 42s 695us/step - loss: 0.0570 - acc: 0.9821\n",
            "Epoch 4/10\n",
            "60000/60000 [==============================] - 42s 700us/step - loss: 0.0441 - acc: 0.9857\n",
            "Epoch 5/10\n",
            "50208/60000 [========================>.....] - ETA: 6s - loss: 0.0361 - acc: 0.9885"
          ],
          "name": "stdout"
        }
      ]
    },
    {
      "cell_type": "code",
      "metadata": {
        "id": "Bln5iqFAm4QT",
        "colab_type": "code",
        "colab": {}
      },
      "source": [
        "model.evaluate(x_test, y_test)"
      ],
      "execution_count": 0,
      "outputs": []
    },
    {
      "cell_type": "markdown",
      "metadata": {
        "colab_type": "text",
        "id": "FwlRJSfBlCvy"
      },
      "source": [
        "## Stretch Goals: \n",
        "\n",
        "- Implement Cross Validation model evaluation on your MNIST implementation \n",
        "- Research different [Gradient Descent Based Optimizers](https://keras.io/optimizers/)\n",
        " - [Siraj Raval the evolution of gradient descent](https://www.youtube.com/watch?v=nhqo0u1a6fw)\n",
        "- Build a housing price estimation model using a neural network. How does its accuracy compare with the regression models that we fit earlier on in class?"
      ]
    },
    {
      "cell_type": "code",
      "metadata": {
        "id": "TBl-RH-bm4Qj",
        "colab_type": "code",
        "colab": {}
      },
      "source": [
        ""
      ],
      "execution_count": 0,
      "outputs": []
    }
  ]
}