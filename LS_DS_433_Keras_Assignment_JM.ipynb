{
  "nbformat": 4,
  "nbformat_minor": 0,
  "metadata": {
    "colab": {
      "name": "LS_DS_433_Keras_Assignment_JM.ipynb",
      "version": "0.3.2",
      "provenance": [],
      "collapsed_sections": [],
      "include_colab_link": true
    },
    "kernelspec": {
      "display_name": "Python 3",
      "language": "python",
      "name": "python3"
    },
    "language_info": {
      "codemirror_mode": {
        "name": "ipython",
        "version": 3
      },
      "file_extension": ".py",
      "mimetype": "text/x-python",
      "name": "python",
      "nbconvert_exporter": "python",
      "pygments_lexer": "ipython3",
      "version": "3.7.3"
    }
  },
  "cells": [
    {
      "cell_type": "markdown",
      "metadata": {
        "id": "view-in-github",
        "colab_type": "text"
      },
      "source": [
        "<a href=\"https://colab.research.google.com/github/JayTheOpenSourcerer/DS-Unit-4-Sprint-2-Neural-Networks/blob/master/LS_DS_433_Keras_Assignment_JM.ipynb\" target=\"_parent\"><img src=\"https://colab.research.google.com/assets/colab-badge.svg\" alt=\"Open In Colab\"/></a>"
      ]
    },
    {
      "cell_type": "markdown",
      "metadata": {
        "colab_type": "text",
        "id": "pBQsZEJmubLs"
      },
      "source": [
        "## Use the Keras Library to build a Multi-Layer Perceptron Model on the Boston Housing dataset\n",
        "\n",
        "- The Boston Housing dataset comes with the Keras library so use Keras to import it into your notebook. \n",
        "- Normalize the data (all features should have roughly the same scale)\n",
        "- Import the type of model and layers that you will need from Keras.\n",
        "- Instantiate a model object and use `model.add()` to add layers to your model\n",
        "- Since this is a regression model you will have a single output node in the final layer.\n",
        "- Use activation functions that are appropriate for this task\n",
        "- Compile your model\n",
        "- Fit your model and report its accuracy in terms of Mean Squared Error\n",
        "- Use the history object that is returned from model.fit to make graphs of the model's loss or train/validation accuracies by epoch. \n",
        "- Run this same data through a linear regression model. Which achieves higher accuracy?\n",
        "- Do a little bit of feature engineering and see how that affects your neural network model. (you will need to change your model to accept more inputs)\n",
        "- After feature engineering, which model sees a greater accuracy boost due to the new features?"
      ]
    },
    {
      "cell_type": "code",
      "metadata": {
        "colab_type": "code",
        "id": "8NLTAR87uYJ-",
        "colab": {
          "base_uri": "https://localhost:8080/",
          "height": 68
        },
        "outputId": "1ae8a78d-e056-474d-f448-9109847e82a5"
      },
      "source": [
        "from keras.datasets import boston_housing\n",
        "\n",
        "(x_train, y_train), (x_test, y_test) = boston_housing.load_data()"
      ],
      "execution_count": 1,
      "outputs": [
        {
          "output_type": "stream",
          "text": [
            "Using TensorFlow backend.\n"
          ],
          "name": "stderr"
        },
        {
          "output_type": "stream",
          "text": [
            "Downloading data from https://s3.amazonaws.com/keras-datasets/boston_housing.npz\n",
            "57344/57026 [==============================] - 0s 0us/step\n"
          ],
          "name": "stdout"
        }
      ]
    },
    {
      "cell_type": "code",
      "metadata": {
        "id": "m1XX5Vyg1N2m",
        "colab_type": "code",
        "outputId": "f83c9719-277f-4e96-9989-c967a165f3e5",
        "colab": {
          "base_uri": "https://localhost:8080/",
          "height": 34
        }
      },
      "source": [
        "import pandas as pd\n",
        "\n",
        "x_train = pd.DataFrame(x_train)\n",
        "y_train = pd.DataFrame(y_train)\n",
        "x_test = pd.DataFrame(x_test)\n",
        "y_test = pd.DataFrame(y_test)\n",
        "\n",
        "x_train.shape, y_train.shape, x_test.shape, y_test.shape"
      ],
      "execution_count": 2,
      "outputs": [
        {
          "output_type": "execute_result",
          "data": {
            "text/plain": [
              "((404, 13), (404, 1), (102, 13), (102, 1))"
            ]
          },
          "metadata": {
            "tags": []
          },
          "execution_count": 2
        }
      ]
    },
    {
      "cell_type": "code",
      "metadata": {
        "id": "uTgWIxap1N26",
        "colab_type": "code",
        "colab": {}
      },
      "source": [
        "from sklearn.preprocessing import MinMaxScaler\n",
        "\n",
        "scaler = MinMaxScaler()\n",
        "x_train = scaler.fit_transform(x_train, y_train)\n",
        "x_test = scaler.fit_transform(x_test, y_test)"
      ],
      "execution_count": 0,
      "outputs": []
    },
    {
      "cell_type": "code",
      "metadata": {
        "id": "CPnJSp2n1N3V",
        "colab_type": "code",
        "colab": {
          "base_uri": "https://localhost:8080/",
          "height": 105
        },
        "outputId": "7232ebfd-81a5-4459-8234-c07899eee0e1"
      },
      "source": [
        "from tensorflow.keras.models import Sequential\n",
        "from tensorflow.keras.layers import Dense\n",
        "import numpy as np\n",
        "\n",
        "model = Sequential()\n",
        "# input layer\n",
        "model.add(Dense(1, input_dim=13, activation='sigmoid'))\n",
        "# hidden layet\n",
        "model.add(Dense(1, activation=\"sigmoid\"))\n",
        "#output layer\n",
        "model.add(Dense(1, activation=\"linear\"))\n",
        "\n",
        "model.compile(loss='mean_squared_error', optimizer=\"adam\")"
      ],
      "execution_count": 4,
      "outputs": [
        {
          "output_type": "stream",
          "text": [
            "WARNING: Logging before flag parsing goes to stderr.\n",
            "W0719 01:26:18.927739 139707300788096 deprecation.py:506] From /usr/local/lib/python3.6/dist-packages/tensorflow/python/ops/init_ops.py:1251: calling VarianceScaling.__init__ (from tensorflow.python.ops.init_ops) with dtype is deprecated and will be removed in a future version.\n",
            "Instructions for updating:\n",
            "Call initializer instance with the dtype argument instead of passing it to the constructor\n"
          ],
          "name": "stderr"
        }
      ]
    },
    {
      "cell_type": "code",
      "metadata": {
        "id": "foQ72mfq1N3e",
        "colab_type": "code",
        "colab": {}
      },
      "source": [
        "history = model.fit(x_train, y_train, epochs=500, verbose=0)"
      ],
      "execution_count": 0,
      "outputs": []
    },
    {
      "cell_type": "code",
      "metadata": {
        "id": "5Gdk4H9g1N3z",
        "colab_type": "code",
        "outputId": "4030a746-49d9-44c6-d409-c4c75e9f5112",
        "colab": {
          "base_uri": "https://localhost:8080/",
          "height": 34
        }
      },
      "source": [
        "scores = model.evaluate(x_test, y_test)"
      ],
      "execution_count": 6,
      "outputs": [
        {
          "output_type": "stream",
          "text": [
            "102/102 [==============================] - 0s 335us/sample - loss: 203.6673\n"
          ],
          "name": "stdout"
        }
      ]
    },
    {
      "cell_type": "code",
      "metadata": {
        "id": "RjNB6ieM1N4V",
        "colab_type": "code",
        "outputId": "4f28a2a2-7214-4870-dfc0-ec22dc6536c6",
        "colab": {
          "base_uri": "https://localhost:8080/",
          "height": 34
        }
      },
      "source": [
        "print(history.history.keys())"
      ],
      "execution_count": 7,
      "outputs": [
        {
          "output_type": "stream",
          "text": [
            "dict_keys(['loss'])\n"
          ],
          "name": "stdout"
        }
      ]
    },
    {
      "cell_type": "code",
      "metadata": {
        "id": "UUAbnNPp1N4n",
        "colab_type": "code",
        "outputId": "a60994b1-4e3e-45c1-a185-04dfd2f9a267",
        "colab": {
          "base_uri": "https://localhost:8080/",
          "height": 34
        }
      },
      "source": [
        "print(history.history['loss'][0:10])"
      ],
      "execution_count": 8,
      "outputs": [
        {
          "output_type": "stream",
          "text": [
            "[581.9947400990098, 580.9842783106436, 579.9646491626702, 578.9248814346766, 577.8880687751392, 576.8403870233215, 575.7704963306389, 574.7094224986464, 573.629204778388, 572.5504380027846]\n"
          ],
          "name": "stdout"
        }
      ]
    },
    {
      "cell_type": "code",
      "metadata": {
        "id": "-1SC8j3G1N4x",
        "colab_type": "code",
        "outputId": "85e7c4c0-ce88-40bb-b049-c05eafa77fb9",
        "colab": {
          "base_uri": "https://localhost:8080/",
          "height": 295
        }
      },
      "source": [
        "import matplotlib.pyplot as plt\n",
        "\n",
        "plt.plot(history.history['loss'])\n",
        "plt.title('Model loss')\n",
        "plt.ylabel('Loss')\n",
        "plt.xlabel('Epoch')\n",
        "plt.show()"
      ],
      "execution_count": 9,
      "outputs": [
        {
          "output_type": "display_data",
          "data": {
            "image/png": "[encoded data removed]",
            "text/plain": [
              "<Figure size 432x288 with 1 Axes>"
            ]
          },
          "metadata": {
            "tags": []
          }
        }
      ]
    },
    {
      "cell_type": "code",
      "metadata": {
        "id": "_gKMA4p91N5B",
        "colab_type": "code",
        "outputId": "76c8dfbf-ef9d-440e-fa20-aef97e0812a2",
        "colab": {
          "base_uri": "https://localhost:8080/",
          "height": 34
        }
      },
      "source": [
        "from sklearn.linear_model import LinearRegression\n",
        "from sklearn.metrics import mean_squared_error\n",
        "\n",
        "lin_reg = LinearRegression()\n",
        "lin_reg.fit(x_train, y_train)\n",
        "y_pred = lin_reg.predict(x_test)\n",
        "\n",
        "mean_squared_error(y_test, y_pred)"
      ],
      "execution_count": 10,
      "outputs": [
        {
          "output_type": "execute_result",
          "data": {
            "text/plain": [
              "40.60145446671504"
            ]
          },
          "metadata": {
            "tags": []
          },
          "execution_count": 10
        }
      ]
    },
    {
      "cell_type": "markdown",
      "metadata": {
        "colab_type": "text",
        "id": "SfcFnOONyuNm"
      },
      "source": [
        "## Use the Keras Library to build an image recognition network using the Fashion-MNIST dataset (also comes with keras)\n",
        "\n",
        "- Load and preprocess the image data similar to how we preprocessed the MNIST data in class.\n",
        "- Make sure to one-hot encode your category labels\n",
        "- Make sure to have your final layer have as many nodes as the number of classes that you want to predict.\n",
        "- Try different hyperparameters. What is the highest accuracy that you are able to achieve.\n",
        "- Use the history object that is returned from model.fit to make graphs of the model's loss or train/validation accuracies by epoch. \n",
        "- Remember that neural networks fall prey to randomness so you may need to run your model multiple times (or use Cross Validation) in order to tell if a change to a hyperparameter is truly producing better results."
      ]
    },
    {
      "cell_type": "code",
      "metadata": {
        "colab_type": "code",
        "id": "szi6-IpuzaH1",
        "colab": {
          "base_uri": "https://localhost:8080/",
          "height": 51
        },
        "outputId": "e67b0570-26da-4119-c60f-92065336b9fb"
      },
      "source": [
        "import tensorflow as tf\n",
        "(X_train, y_train), (X_test, y_test) = tf.keras.datasets.mnist.load_data()"
      ],
      "execution_count": 11,
      "outputs": [
        {
          "output_type": "stream",
          "text": [
            "Downloading data from https://storage.googleapis.com/tensorflow/tf-keras-datasets/mnist.npz\n",
            "11493376/11490434 [==============================] - 0s 0us/step\n"
          ],
          "name": "stdout"
        }
      ]
    },
    {
      "cell_type": "code",
      "metadata": {
        "id": "_zc4n37Q1N5g",
        "colab_type": "code",
        "outputId": "6a4e3e19-2af0-4bec-d5ab-52058705f3bd",
        "colab": {
          "base_uri": "https://localhost:8080/",
          "height": 34
        }
      },
      "source": [
        "X_train.shape"
      ],
      "execution_count": 12,
      "outputs": [
        {
          "output_type": "execute_result",
          "data": {
            "text/plain": [
              "(60000, 28, 28)"
            ]
          },
          "metadata": {
            "tags": []
          },
          "execution_count": 12
        }
      ]
    },
    {
      "cell_type": "code",
      "metadata": {
        "id": "laWyePX51N5s",
        "colab_type": "code",
        "colab": {}
      },
      "source": [
        "# reshape\n",
        "X_train = X_train.reshape(60000, 784)\n",
        "X_test = X_test.reshape(10000, 784)"
      ],
      "execution_count": 0,
      "outputs": []
    },
    {
      "cell_type": "code",
      "metadata": {
        "id": "SRCpKff31N53",
        "colab_type": "code",
        "colab": {}
      },
      "source": [
        "# set to floats\n",
        "X_train = X_train.astype('float32')\n",
        "X_test = X_test.astype('float32')"
      ],
      "execution_count": 0,
      "outputs": []
    },
    {
      "cell_type": "code",
      "metadata": {
        "id": "bKCqN0K31N6a",
        "colab_type": "code",
        "colab": {}
      },
      "source": [
        "# set outputs to categorical\n",
        "import keras\n",
        "\n",
        "y_train = keras.utils.to_categorical(y_train, 10)\n",
        "y_test = keras.utils.to_categorical(y_test, 10)"
      ],
      "execution_count": 0,
      "outputs": []
    },
    {
      "cell_type": "code",
      "metadata": {
        "id": "cxT3MPNE1N6m",
        "colab_type": "code",
        "outputId": "60c51fc1-9145-40bf-ec1a-d7878cc24276",
        "colab": {
          "base_uri": "https://localhost:8080/",
          "height": 34
        }
      },
      "source": [
        "y_train[0]"
      ],
      "execution_count": 16,
      "outputs": [
        {
          "output_type": "execute_result",
          "data": {
            "text/plain": [
              "array([0., 0., 0., 0., 0., 1., 0., 0., 0., 0.], dtype=float32)"
            ]
          },
          "metadata": {
            "tags": []
          },
          "execution_count": 16
        }
      ]
    },
    {
      "cell_type": "code",
      "metadata": {
        "id": "ky9z_5QI1N6z",
        "colab_type": "code",
        "colab": {}
      },
      "source": [
        "mnist_model = Sequential()\n",
        "\n",
        "# hidden layer\n",
        "mnist_model.add(Dense(16, input_dim=784, activation='relu'))\n",
        "mnist_model.add(Dense(16, activation='relu'))\n",
        "# output layer\n",
        "mnist_model.add(Dense(10, activation='softmax'))\n",
        "\n",
        "mnist_model.compile(loss='categorical_crossentropy', optimizer='adam', metrics=['accuracy'])"
      ],
      "execution_count": 0,
      "outputs": []
    },
    {
      "cell_type": "code",
      "metadata": {
        "id": "KFlxWQy71N7S",
        "colab_type": "code",
        "outputId": "4a26289b-b7e8-4010-cc67-3893e1362bab",
        "colab": {
          "base_uri": "https://localhost:8080/",
          "height": 1000
        }
      },
      "source": [
        "history = mnist_model.fit(X_train, y_train, batch_size=32, epochs=150, verbose=1)"
      ],
      "execution_count": 18,
      "outputs": [
        {
          "output_type": "stream",
          "text": [
            "Epoch 1/150\n",
            "60000/60000 [==============================] - 3s 50us/sample - loss: 2.1891 - acc: 0.3080\n",
            "Epoch 2/150\n",
            "60000/60000 [==============================] - 3s 46us/sample - loss: 1.1980 - acc: 0.5321\n",
            "Epoch 3/150\n",
            "60000/60000 [==============================] - 3s 47us/sample - loss: 0.9175 - acc: 0.6533\n",
            "Epoch 4/150\n",
            "60000/60000 [==============================] - 3s 48us/sample - loss: 0.7223 - acc: 0.7536\n",
            "Epoch 5/150\n",
            "60000/60000 [==============================] - 3s 47us/sample - loss: 0.5569 - acc: 0.8428\n",
            "Epoch 6/150\n",
            "60000/60000 [==============================] - 3s 47us/sample - loss: 0.4936 - acc: 0.8629\n",
            "Epoch 7/150\n",
            "60000/60000 [==============================] - 3s 47us/sample - loss: 0.4596 - acc: 0.8713\n",
            "Epoch 8/150\n",
            "60000/60000 [==============================] - 3s 47us/sample - loss: 0.4236 - acc: 0.8799\n",
            "Epoch 9/150\n",
            "60000/60000 [==============================] - 3s 46us/sample - loss: 0.3993 - acc: 0.8860\n",
            "Epoch 10/150\n",
            "60000/60000 [==============================] - 3s 47us/sample - loss: 0.3590 - acc: 0.8970\n",
            "Epoch 11/150\n",
            "60000/60000 [==============================] - 3s 48us/sample - loss: 0.3386 - acc: 0.9022\n",
            "Epoch 12/150\n",
            "60000/60000 [==============================] - 3s 47us/sample - loss: 0.3269 - acc: 0.9061\n",
            "Epoch 13/150\n",
            "60000/60000 [==============================] - 3s 48us/sample - loss: 0.3161 - acc: 0.9079\n",
            "Epoch 14/150\n",
            "60000/60000 [==============================] - 3s 47us/sample - loss: 0.3090 - acc: 0.9100\n",
            "Epoch 15/150\n",
            "60000/60000 [==============================] - 3s 48us/sample - loss: 0.3024 - acc: 0.9116\n",
            "Epoch 16/150\n",
            "60000/60000 [==============================] - 3s 47us/sample - loss: 0.2990 - acc: 0.9126\n",
            "Epoch 17/150\n",
            "60000/60000 [==============================] - 3s 47us/sample - loss: 0.2932 - acc: 0.9133\n",
            "Epoch 18/150\n",
            "60000/60000 [==============================] - 3s 47us/sample - loss: 0.2896 - acc: 0.9147\n",
            "Epoch 19/150\n",
            "60000/60000 [==============================] - 3s 47us/sample - loss: 0.2878 - acc: 0.9147\n",
            "Epoch 20/150\n",
            "60000/60000 [==============================] - 3s 46us/sample - loss: 0.2855 - acc: 0.9150\n",
            "Epoch 21/150\n",
            "60000/60000 [==============================] - 3s 46us/sample - loss: 0.2809 - acc: 0.9176\n",
            "Epoch 22/150\n",
            "60000/60000 [==============================] - 3s 46us/sample - loss: 0.2799 - acc: 0.9170\n",
            "Epoch 23/150\n",
            "60000/60000 [==============================] - 3s 46us/sample - loss: 0.2770 - acc: 0.9172\n",
            "Epoch 24/150\n",
            "60000/60000 [==============================] - 3s 46us/sample - loss: 0.2746 - acc: 0.9184\n",
            "Epoch 25/150\n",
            "60000/60000 [==============================] - 3s 46us/sample - loss: 0.2706 - acc: 0.9194\n",
            "Epoch 26/150\n",
            "60000/60000 [==============================] - 3s 47us/sample - loss: 0.2722 - acc: 0.9194\n",
            "Epoch 27/150\n",
            "60000/60000 [==============================] - 3s 47us/sample - loss: 0.2732 - acc: 0.9192\n",
            "Epoch 28/150\n",
            "60000/60000 [==============================] - 3s 47us/sample - loss: 0.2690 - acc: 0.9194\n",
            "Epoch 29/150\n",
            "60000/60000 [==============================] - 3s 47us/sample - loss: 0.2681 - acc: 0.9215\n",
            "Epoch 30/150\n",
            "60000/60000 [==============================] - 3s 47us/sample - loss: 0.2670 - acc: 0.9212\n",
            "Epoch 31/150\n",
            "60000/60000 [==============================] - 3s 46us/sample - loss: 0.2651 - acc: 0.9215\n",
            "Epoch 32/150\n",
            "60000/60000 [==============================] - 3s 47us/sample - loss: 0.2645 - acc: 0.9219\n",
            "Epoch 33/150\n",
            "60000/60000 [==============================] - 3s 47us/sample - loss: 0.2626 - acc: 0.9220\n",
            "Epoch 34/150\n",
            "60000/60000 [==============================] - 3s 47us/sample - loss: 0.2628 - acc: 0.9224\n",
            "Epoch 35/150\n",
            "60000/60000 [==============================] - 3s 46us/sample - loss: 0.2633 - acc: 0.9218\n",
            "Epoch 36/150\n",
            "60000/60000 [==============================] - 3s 46us/sample - loss: 0.2604 - acc: 0.9223\n",
            "Epoch 37/150\n",
            "60000/60000 [==============================] - 3s 47us/sample - loss: 0.2643 - acc: 0.9221\n",
            "Epoch 38/150\n",
            "60000/60000 [==============================] - 3s 46us/sample - loss: 0.2640 - acc: 0.9209\n",
            "Epoch 39/150\n",
            "60000/60000 [==============================] - 3s 47us/sample - loss: 0.2592 - acc: 0.9233\n",
            "Epoch 40/150\n",
            "60000/60000 [==============================] - 3s 47us/sample - loss: 0.2606 - acc: 0.9221\n",
            "Epoch 41/150\n",
            "60000/60000 [==============================] - 3s 46us/sample - loss: 0.2591 - acc: 0.9241\n",
            "Epoch 42/150\n",
            "60000/60000 [==============================] - 3s 46us/sample - loss: 0.2570 - acc: 0.9234\n",
            "Epoch 43/150\n",
            "60000/60000 [==============================] - 3s 46us/sample - loss: 0.2594 - acc: 0.9239\n",
            "Epoch 44/150\n",
            "60000/60000 [==============================] - 3s 47us/sample - loss: 0.2562 - acc: 0.9237\n",
            "Epoch 45/150\n",
            "60000/60000 [==============================] - 3s 46us/sample - loss: 0.2587 - acc: 0.9229\n",
            "Epoch 46/150\n",
            "60000/60000 [==============================] - 3s 46us/sample - loss: 0.2587 - acc: 0.9238\n",
            "Epoch 47/150\n",
            "60000/60000 [==============================] - 3s 46us/sample - loss: 0.2555 - acc: 0.9233\n",
            "Epoch 48/150\n",
            "60000/60000 [==============================] - 3s 46us/sample - loss: 0.2555 - acc: 0.9243\n",
            "Epoch 49/150\n",
            "60000/60000 [==============================] - 3s 47us/sample - loss: 0.2574 - acc: 0.9237\n",
            "Epoch 50/150\n",
            "60000/60000 [==============================] - 3s 47us/sample - loss: 0.2541 - acc: 0.9249\n",
            "Epoch 51/150\n",
            "60000/60000 [==============================] - 3s 47us/sample - loss: 0.2557 - acc: 0.9245\n",
            "Epoch 52/150\n",
            "60000/60000 [==============================] - 3s 46us/sample - loss: 0.2559 - acc: 0.9235\n",
            "Epoch 53/150\n",
            "60000/60000 [==============================] - 3s 45us/sample - loss: 0.2545 - acc: 0.9255\n",
            "Epoch 54/150\n",
            "60000/60000 [==============================] - 3s 46us/sample - loss: 0.2553 - acc: 0.9244\n",
            "Epoch 55/150\n",
            "60000/60000 [==============================] - 3s 47us/sample - loss: 0.2529 - acc: 0.9251\n",
            "Epoch 56/150\n",
            "60000/60000 [==============================] - 3s 46us/sample - loss: 0.2548 - acc: 0.9248\n",
            "Epoch 57/150\n",
            "60000/60000 [==============================] - 3s 46us/sample - loss: 0.2523 - acc: 0.9257\n",
            "Epoch 58/150\n",
            "60000/60000 [==============================] - 3s 47us/sample - loss: 0.2509 - acc: 0.9252\n",
            "Epoch 59/150\n",
            "60000/60000 [==============================] - 3s 46us/sample - loss: 0.2523 - acc: 0.9258\n",
            "Epoch 60/150\n",
            "60000/60000 [==============================] - 3s 47us/sample - loss: 0.2526 - acc: 0.9262\n",
            "Epoch 61/150\n",
            "60000/60000 [==============================] - 3s 46us/sample - loss: 0.2537 - acc: 0.9249\n",
            "Epoch 62/150\n",
            "60000/60000 [==============================] - 3s 47us/sample - loss: 0.2529 - acc: 0.9250\n",
            "Epoch 63/150\n",
            "60000/60000 [==============================] - 3s 46us/sample - loss: 0.2534 - acc: 0.9258\n",
            "Epoch 64/150\n",
            "60000/60000 [==============================] - 3s 46us/sample - loss: 0.2505 - acc: 0.9254\n",
            "Epoch 65/150\n",
            "60000/60000 [==============================] - 3s 47us/sample - loss: 0.2491 - acc: 0.9262\n",
            "Epoch 66/150\n",
            "60000/60000 [==============================] - 3s 47us/sample - loss: 0.2521 - acc: 0.9249\n",
            "Epoch 67/150\n",
            "60000/60000 [==============================] - 3s 46us/sample - loss: 0.2512 - acc: 0.9257\n",
            "Epoch 68/150\n",
            "60000/60000 [==============================] - 3s 46us/sample - loss: 0.2506 - acc: 0.9256\n",
            "Epoch 69/150\n",
            "60000/60000 [==============================] - 3s 46us/sample - loss: 0.2500 - acc: 0.9258\n",
            "Epoch 70/150\n",
            "60000/60000 [==============================] - 3s 47us/sample - loss: 0.2526 - acc: 0.9253\n",
            "Epoch 71/150\n",
            "60000/60000 [==============================] - 3s 47us/sample - loss: 0.2485 - acc: 0.9255\n",
            "Epoch 72/150\n",
            "60000/60000 [==============================] - 3s 46us/sample - loss: 0.2490 - acc: 0.9258\n",
            "Epoch 73/150\n",
            "60000/60000 [==============================] - 3s 47us/sample - loss: 0.2495 - acc: 0.9258\n",
            "Epoch 74/150\n",
            "60000/60000 [==============================] - 3s 47us/sample - loss: 0.2499 - acc: 0.9258\n",
            "Epoch 75/150\n",
            "60000/60000 [==============================] - 3s 47us/sample - loss: 0.2501 - acc: 0.9256\n",
            "Epoch 76/150\n",
            "60000/60000 [==============================] - 3s 47us/sample - loss: 0.2505 - acc: 0.9250\n",
            "Epoch 77/150\n",
            "60000/60000 [==============================] - 3s 47us/sample - loss: 0.2472 - acc: 0.9264\n",
            "Epoch 78/150\n",
            "60000/60000 [==============================] - 3s 47us/sample - loss: 0.2506 - acc: 0.9254\n",
            "Epoch 79/150\n",
            "60000/60000 [==============================] - 3s 47us/sample - loss: 0.2463 - acc: 0.9261\n",
            "Epoch 80/150\n",
            "60000/60000 [==============================] - 3s 47us/sample - loss: 0.2473 - acc: 0.9268\n",
            "Epoch 81/150\n",
            "60000/60000 [==============================] - 3s 48us/sample - loss: 0.2459 - acc: 0.9274\n",
            "Epoch 82/150\n",
            "60000/60000 [==============================] - 3s 46us/sample - loss: 0.2496 - acc: 0.9256\n",
            "Epoch 83/150\n",
            "60000/60000 [==============================] - 3s 50us/sample - loss: 0.2468 - acc: 0.9268\n",
            "Epoch 84/150\n",
            "60000/60000 [==============================] - 3s 55us/sample - loss: 0.2487 - acc: 0.9260\n",
            "Epoch 85/150\n",
            "60000/60000 [==============================] - 3s 51us/sample - loss: 0.2525 - acc: 0.9240\n",
            "Epoch 86/150\n",
            "60000/60000 [==============================] - 3s 50us/sample - loss: 0.2437 - acc: 0.9270\n",
            "Epoch 87/150\n",
            "60000/60000 [==============================] - 3s 48us/sample - loss: 0.2464 - acc: 0.9273\n",
            "Epoch 88/150\n",
            "60000/60000 [==============================] - 3s 46us/sample - loss: 0.2474 - acc: 0.9267\n",
            "Epoch 89/150\n",
            "60000/60000 [==============================] - 3s 47us/sample - loss: 0.2445 - acc: 0.9275\n",
            "Epoch 90/150\n",
            "60000/60000 [==============================] - 3s 47us/sample - loss: 0.2471 - acc: 0.9269\n",
            "Epoch 91/150\n",
            "60000/60000 [==============================] - 3s 47us/sample - loss: 0.2452 - acc: 0.9260\n",
            "Epoch 92/150\n",
            "60000/60000 [==============================] - 3s 47us/sample - loss: 0.2479 - acc: 0.9263\n",
            "Epoch 93/150\n",
            "60000/60000 [==============================] - 3s 47us/sample - loss: 0.2474 - acc: 0.9263\n",
            "Epoch 94/150\n",
            "60000/60000 [==============================] - 3s 46us/sample - loss: 0.2466 - acc: 0.9265\n",
            "Epoch 95/150\n",
            "60000/60000 [==============================] - 3s 46us/sample - loss: 0.2462 - acc: 0.9268\n",
            "Epoch 96/150\n",
            "60000/60000 [==============================] - 3s 46us/sample - loss: 0.2456 - acc: 0.9275\n",
            "Epoch 97/150\n",
            "60000/60000 [==============================] - 3s 47us/sample - loss: 0.2454 - acc: 0.9274\n",
            "Epoch 98/150\n",
            "60000/60000 [==============================] - 3s 47us/sample - loss: 0.2460 - acc: 0.9272\n",
            "Epoch 99/150\n",
            "60000/60000 [==============================] - 3s 46us/sample - loss: 0.2488 - acc: 0.9266\n",
            "Epoch 100/150\n",
            "60000/60000 [==============================] - 3s 46us/sample - loss: 0.2450 - acc: 0.9275\n",
            "Epoch 101/150\n",
            "60000/60000 [==============================] - 3s 47us/sample - loss: 0.2443 - acc: 0.9278\n",
            "Epoch 102/150\n",
            "60000/60000 [==============================] - 3s 47us/sample - loss: 0.2427 - acc: 0.9277\n",
            "Epoch 103/150\n",
            "60000/60000 [==============================] - 3s 48us/sample - loss: 0.2456 - acc: 0.9274\n",
            "Epoch 104/150\n",
            "60000/60000 [==============================] - 3s 46us/sample - loss: 0.2443 - acc: 0.9285\n",
            "Epoch 105/150\n",
            "60000/60000 [==============================] - 3s 47us/sample - loss: 0.2440 - acc: 0.9279\n",
            "Epoch 106/150\n",
            "60000/60000 [==============================] - 3s 47us/sample - loss: 0.2453 - acc: 0.9275\n",
            "Epoch 107/150\n",
            "60000/60000 [==============================] - 3s 47us/sample - loss: 0.2430 - acc: 0.9273\n",
            "Epoch 108/150\n",
            "60000/60000 [==============================] - 3s 47us/sample - loss: 0.2438 - acc: 0.9274\n",
            "Epoch 109/150\n",
            "60000/60000 [==============================] - 3s 47us/sample - loss: 0.2415 - acc: 0.9292\n",
            "Epoch 110/150\n",
            "60000/60000 [==============================] - 3s 47us/sample - loss: 0.2401 - acc: 0.9292\n",
            "Epoch 111/150\n",
            "60000/60000 [==============================] - 3s 47us/sample - loss: 0.2450 - acc: 0.9279\n",
            "Epoch 112/150\n",
            "60000/60000 [==============================] - 3s 46us/sample - loss: 0.2475 - acc: 0.9265\n",
            "Epoch 113/150\n",
            "60000/60000 [==============================] - 3s 47us/sample - loss: 0.2418 - acc: 0.9288\n",
            "Epoch 114/150\n",
            "60000/60000 [==============================] - 3s 46us/sample - loss: 0.2448 - acc: 0.9282\n",
            "Epoch 115/150\n",
            "60000/60000 [==============================] - 3s 47us/sample - loss: 0.2418 - acc: 0.9284\n",
            "Epoch 116/150\n",
            "60000/60000 [==============================] - 3s 47us/sample - loss: 0.2435 - acc: 0.9283\n",
            "Epoch 117/150\n",
            "60000/60000 [==============================] - 3s 47us/sample - loss: 0.2429 - acc: 0.9275\n",
            "Epoch 118/150\n",
            "60000/60000 [==============================] - 3s 47us/sample - loss: 0.2406 - acc: 0.9292\n",
            "Epoch 119/150\n",
            "60000/60000 [==============================] - 3s 47us/sample - loss: 0.2462 - acc: 0.9278\n",
            "Epoch 120/150\n",
            "60000/60000 [==============================] - 3s 48us/sample - loss: 0.2422 - acc: 0.9290\n",
            "Epoch 121/150\n",
            "60000/60000 [==============================] - 3s 47us/sample - loss: 0.2443 - acc: 0.9282\n",
            "Epoch 122/150\n",
            "60000/60000 [==============================] - 3s 47us/sample - loss: 0.2407 - acc: 0.9288\n",
            "Epoch 123/150\n",
            "60000/60000 [==============================] - 3s 47us/sample - loss: 0.2403 - acc: 0.9292\n",
            "Epoch 124/150\n",
            "60000/60000 [==============================] - 3s 48us/sample - loss: 0.2427 - acc: 0.9288\n",
            "Epoch 125/150\n",
            "60000/60000 [==============================] - 3s 47us/sample - loss: 0.2403 - acc: 0.9291\n",
            "Epoch 126/150\n",
            "60000/60000 [==============================] - 3s 47us/sample - loss: 0.2462 - acc: 0.9279\n",
            "Epoch 127/150\n",
            "60000/60000 [==============================] - 3s 47us/sample - loss: 0.2417 - acc: 0.9290\n",
            "Epoch 128/150\n",
            "60000/60000 [==============================] - 3s 47us/sample - loss: 0.2395 - acc: 0.9293\n",
            "Epoch 129/150\n",
            "60000/60000 [==============================] - 3s 47us/sample - loss: 0.2435 - acc: 0.9286\n",
            "Epoch 130/150\n",
            "60000/60000 [==============================] - 3s 47us/sample - loss: 0.2419 - acc: 0.9288\n",
            "Epoch 131/150\n",
            "60000/60000 [==============================] - 3s 47us/sample - loss: 0.2402 - acc: 0.9298\n",
            "Epoch 132/150\n",
            "60000/60000 [==============================] - 3s 46us/sample - loss: 0.2434 - acc: 0.9286\n",
            "Epoch 133/150\n",
            "60000/60000 [==============================] - 3s 46us/sample - loss: 0.2417 - acc: 0.9289\n",
            "Epoch 134/150\n",
            "60000/60000 [==============================] - 3s 47us/sample - loss: 0.2421 - acc: 0.9289\n",
            "Epoch 135/150\n",
            "60000/60000 [==============================] - 3s 47us/sample - loss: 0.2435 - acc: 0.9274\n",
            "Epoch 136/150\n",
            "60000/60000 [==============================] - 3s 46us/sample - loss: 0.2392 - acc: 0.9294\n",
            "Epoch 137/150\n",
            "60000/60000 [==============================] - 3s 46us/sample - loss: 0.2408 - acc: 0.9287\n",
            "Epoch 138/150\n",
            "60000/60000 [==============================] - 3s 47us/sample - loss: 0.2400 - acc: 0.9298\n",
            "Epoch 139/150\n",
            "60000/60000 [==============================] - 3s 46us/sample - loss: 0.2398 - acc: 0.9288\n",
            "Epoch 140/150\n",
            "60000/60000 [==============================] - 3s 47us/sample - loss: 0.2402 - acc: 0.9288\n",
            "Epoch 141/150\n",
            "60000/60000 [==============================] - 3s 47us/sample - loss: 0.2396 - acc: 0.9283\n",
            "Epoch 142/150\n",
            "60000/60000 [==============================] - 3s 47us/sample - loss: 0.2408 - acc: 0.9289\n",
            "Epoch 143/150\n",
            "60000/60000 [==============================] - 3s 46us/sample - loss: 0.2410 - acc: 0.9277\n",
            "Epoch 144/150\n",
            "60000/60000 [==============================] - 3s 46us/sample - loss: 0.2386 - acc: 0.9288\n",
            "Epoch 145/150\n",
            "60000/60000 [==============================] - 3s 47us/sample - loss: 0.2397 - acc: 0.9304\n",
            "Epoch 146/150\n",
            "60000/60000 [==============================] - 3s 47us/sample - loss: 0.2420 - acc: 0.9288\n",
            "Epoch 147/150\n",
            "60000/60000 [==============================] - 3s 46us/sample - loss: 0.2428 - acc: 0.9284\n",
            "Epoch 148/150\n",
            "60000/60000 [==============================] - 3s 46us/sample - loss: 0.2431 - acc: 0.9289\n",
            "Epoch 149/150\n",
            "60000/60000 [==============================] - 3s 47us/sample - loss: 0.2395 - acc: 0.9287\n",
            "Epoch 150/150\n",
            "60000/60000 [==============================] - 3s 47us/sample - loss: 0.2388 - acc: 0.9298\n"
          ],
          "name": "stdout"
        }
      ]
    },
    {
      "cell_type": "code",
      "metadata": {
        "id": "cn7gYr3V1N7o",
        "colab_type": "code",
        "outputId": "179b25d3-d94f-481a-b699-6dd6463605ef",
        "colab": {
          "base_uri": "https://localhost:8080/",
          "height": 34
        }
      },
      "source": [
        "score = mnist_model.evaluate(X_test, y_test)"
      ],
      "execution_count": 19,
      "outputs": [
        {
          "output_type": "stream",
          "text": [
            "10000/10000 [==============================] - 0s 27us/sample - loss: 0.3360 - acc: 0.9146\n"
          ],
          "name": "stdout"
        }
      ]
    },
    {
      "cell_type": "code",
      "metadata": {
        "id": "9nRC0axD1N7y",
        "colab_type": "code",
        "outputId": "e688b8a8-7e0f-4a46-84a3-68f63ad405d7",
        "colab": {
          "base_uri": "https://localhost:8080/",
          "height": 295
        }
      },
      "source": [
        "plt.plot(history.history['acc'])\n",
        "plt.title('Model accuracy')\n",
        "plt.ylabel('Accuracy')\n",
        "plt.xlabel('Epoch')\n",
        "plt.show()"
      ],
      "execution_count": 20,
      "outputs": [
        {
          "output_type": "display_data",
          "data": {
            "image/png": "[encoded data removed]",
            "text/plain": [
              "<Figure size 432x288 with 1 Axes>"
            ]
          },
          "metadata": {
            "tags": []
          }
        }
      ]
    },
    {
      "cell_type": "markdown",
      "metadata": {
        "id": "MysssR8K1N72",
        "colab_type": "text"
      },
      "source": [
        "## Working on by hand model from yesterday's assignment"
      ]
    },
    {
      "cell_type": "code",
      "metadata": {
        "id": "sLYNEGrU1N73",
        "colab_type": "code",
        "outputId": "fdb27b17-92dc-427f-e750-1626424d4178",
        "colab": {
          "base_uri": "https://localhost:8080/",
          "height": 1000
        }
      },
      "source": [
        "X_train[0]"
      ],
      "execution_count": 21,
      "outputs": [
        {
          "output_type": "execute_result",
          "data": {
            "text/plain": [
              "array([  0.,   0.,   0.,   0.,   0.,   0.,   0.,   0.,   0.,   0.,   0.,\n",
              "         0.,   0.,   0.,   0.,   0.,   0.,   0.,   0.,   0.,   0.,   0.,\n",
              "         0.,   0.,   0.,   0.,   0.,   0.,   0.,   0.,   0.,   0.,   0.,\n",
              "         0.,   0.,   0.,   0.,   0.,   0.,   0.,   0.,   0.,   0.,   0.,\n",
              "         0.,   0.,   0.,   0.,   0.,   0.,   0.,   0.,   0.,   0.,   0.,\n",
              "         0.,   0.,   0.,   0.,   0.,   0.,   0.,   0.,   0.,   0.,   0.,\n",
              "         0.,   0.,   0.,   0.,   0.,   0.,   0.,   0.,   0.,   0.,   0.,\n",
              "         0.,   0.,   0.,   0.,   0.,   0.,   0.,   0.,   0.,   0.,   0.,\n",
              "         0.,   0.,   0.,   0.,   0.,   0.,   0.,   0.,   0.,   0.,   0.,\n",
              "         0.,   0.,   0.,   0.,   0.,   0.,   0.,   0.,   0.,   0.,   0.,\n",
              "         0.,   0.,   0.,   0.,   0.,   0.,   0.,   0.,   0.,   0.,   0.,\n",
              "         0.,   0.,   0.,   0.,   0.,   0.,   0.,   0.,   0.,   0.,   0.,\n",
              "         0.,   0.,   0.,   0.,   0.,   0.,   0.,   0.,   0.,   0.,   0.,\n",
              "         0.,   0.,   0.,   0.,   0.,   0.,   0.,   0.,   0.,   3.,  18.,\n",
              "        18.,  18., 126., 136., 175.,  26., 166., 255., 247., 127.,   0.,\n",
              "         0.,   0.,   0.,   0.,   0.,   0.,   0.,   0.,   0.,   0.,   0.,\n",
              "        30.,  36.,  94., 154., 170., 253., 253., 253., 253., 253., 225.,\n",
              "       172., 253., 242., 195.,  64.,   0.,   0.,   0.,   0.,   0.,   0.,\n",
              "         0.,   0.,   0.,   0.,   0.,  49., 238., 253., 253., 253., 253.,\n",
              "       253., 253., 253., 253., 251.,  93.,  82.,  82.,  56.,  39.,   0.,\n",
              "         0.,   0.,   0.,   0.,   0.,   0.,   0.,   0.,   0.,   0.,   0.,\n",
              "        18., 219., 253., 253., 253., 253., 253., 198., 182., 247., 241.,\n",
              "         0.,   0.,   0.,   0.,   0.,   0.,   0.,   0.,   0.,   0.,   0.,\n",
              "         0.,   0.,   0.,   0.,   0.,   0.,   0.,  80., 156., 107., 253.,\n",
              "       253., 205.,  11.,   0.,  43., 154.,   0.,   0.,   0.,   0.,   0.,\n",
              "         0.,   0.,   0.,   0.,   0.,   0.,   0.,   0.,   0.,   0.,   0.,\n",
              "         0.,   0.,   0.,  14.,   1., 154., 253.,  90.,   0.,   0.,   0.,\n",
              "         0.,   0.,   0.,   0.,   0.,   0.,   0.,   0.,   0.,   0.,   0.,\n",
              "         0.,   0.,   0.,   0.,   0.,   0.,   0.,   0.,   0.,   0.,   0.,\n",
              "       139., 253., 190.,   2.,   0.,   0.,   0.,   0.,   0.,   0.,   0.,\n",
              "         0.,   0.,   0.,   0.,   0.,   0.,   0.,   0.,   0.,   0.,   0.,\n",
              "         0.,   0.,   0.,   0.,   0.,   0.,  11., 190., 253.,  70.,   0.,\n",
              "         0.,   0.,   0.,   0.,   0.,   0.,   0.,   0.,   0.,   0.,   0.,\n",
              "         0.,   0.,   0.,   0.,   0.,   0.,   0.,   0.,   0.,   0.,   0.,\n",
              "         0.,   0.,  35., 241., 225., 160., 108.,   1.,   0.,   0.,   0.,\n",
              "         0.,   0.,   0.,   0.,   0.,   0.,   0.,   0.,   0.,   0.,   0.,\n",
              "         0.,   0.,   0.,   0.,   0.,   0.,   0.,   0.,   0.,  81., 240.,\n",
              "       253., 253., 119.,  25.,   0.,   0.,   0.,   0.,   0.,   0.,   0.,\n",
              "         0.,   0.,   0.,   0.,   0.,   0.,   0.,   0.,   0.,   0.,   0.,\n",
              "         0.,   0.,   0.,   0.,   0.,  45., 186., 253., 253., 150.,  27.,\n",
              "         0.,   0.,   0.,   0.,   0.,   0.,   0.,   0.,   0.,   0.,   0.,\n",
              "         0.,   0.,   0.,   0.,   0.,   0.,   0.,   0.,   0.,   0.,   0.,\n",
              "         0.,  16.,  93., 252., 253., 187.,   0.,   0.,   0.,   0.,   0.,\n",
              "         0.,   0.,   0.,   0.,   0.,   0.,   0.,   0.,   0.,   0.,   0.,\n",
              "         0.,   0.,   0.,   0.,   0.,   0.,   0.,   0.,   0., 249., 253.,\n",
              "       249.,  64.,   0.,   0.,   0.,   0.,   0.,   0.,   0.,   0.,   0.,\n",
              "         0.,   0.,   0.,   0.,   0.,   0.,   0.,   0.,   0.,   0.,   0.,\n",
              "         0.,  46., 130., 183., 253., 253., 207.,   2.,   0.,   0.,   0.,\n",
              "         0.,   0.,   0.,   0.,   0.,   0.,   0.,   0.,   0.,   0.,   0.,\n",
              "         0.,   0.,   0.,   0.,   0.,  39., 148., 229., 253., 253., 253.,\n",
              "       250., 182.,   0.,   0.,   0.,   0.,   0.,   0.,   0.,   0.,   0.,\n",
              "         0.,   0.,   0.,   0.,   0.,   0.,   0.,   0.,   0.,  24., 114.,\n",
              "       221., 253., 253., 253., 253., 201.,  78.,   0.,   0.,   0.,   0.,\n",
              "         0.,   0.,   0.,   0.,   0.,   0.,   0.,   0.,   0.,   0.,   0.,\n",
              "         0.,   0.,  23.,  66., 213., 253., 253., 253., 253., 198.,  81.,\n",
              "         2.,   0.,   0.,   0.,   0.,   0.,   0.,   0.,   0.,   0.,   0.,\n",
              "         0.,   0.,   0.,   0.,   0.,   0.,  18., 171., 219., 253., 253.,\n",
              "       253., 253., 195.,  80.,   9.,   0.,   0.,   0.,   0.,   0.,   0.,\n",
              "         0.,   0.,   0.,   0.,   0.,   0.,   0.,   0.,   0.,   0.,  55.,\n",
              "       172., 226., 253., 253., 253., 253., 244., 133.,  11.,   0.,   0.,\n",
              "         0.,   0.,   0.,   0.,   0.,   0.,   0.,   0.,   0.,   0.,   0.,\n",
              "         0.,   0.,   0.,   0.,   0., 136., 253., 253., 253., 212., 135.,\n",
              "       132.,  16.,   0.,   0.,   0.,   0.,   0.,   0.,   0.,   0.,   0.,\n",
              "         0.,   0.,   0.,   0.,   0.,   0.,   0.,   0.,   0.,   0.,   0.,\n",
              "         0.,   0.,   0.,   0.,   0.,   0.,   0.,   0.,   0.,   0.,   0.,\n",
              "         0.,   0.,   0.,   0.,   0.,   0.,   0.,   0.,   0.,   0.,   0.,\n",
              "         0.,   0.,   0.,   0.,   0.,   0.,   0.,   0.,   0.,   0.,   0.,\n",
              "         0.,   0.,   0.,   0.,   0.,   0.,   0.,   0.,   0.,   0.,   0.,\n",
              "         0.,   0.,   0.,   0.,   0.,   0.,   0.,   0.,   0.,   0.,   0.,\n",
              "         0.,   0.,   0.,   0.,   0.,   0.,   0.,   0.,   0.,   0.,   0.,\n",
              "         0.,   0.,   0.,   0.,   0.,   0.,   0.,   0.,   0.,   0.,   0.,\n",
              "         0.,   0.,   0.], dtype=float32)"
            ]
          },
          "metadata": {
            "tags": []
          },
          "execution_count": 21
        }
      ]
    },
    {
      "cell_type": "code",
      "metadata": {
        "id": "82-JEDH81N7-",
        "colab_type": "code",
        "outputId": "09f310d9-594f-4605-cac1-292eeca5ba73",
        "colab": {
          "base_uri": "https://localhost:8080/",
          "height": 34
        }
      },
      "source": [
        "y_train[0]"
      ],
      "execution_count": 22,
      "outputs": [
        {
          "output_type": "execute_result",
          "data": {
            "text/plain": [
              "array([0., 0., 0., 0., 0., 1., 0., 0., 0., 0.], dtype=float32)"
            ]
          },
          "metadata": {
            "tags": []
          },
          "execution_count": 22
        }
      ]
    },
    {
      "cell_type": "code",
      "metadata": {
        "id": "5whu_-wi1N8F",
        "colab_type": "code",
        "colab": {}
      },
      "source": [
        "class NeuralNetwork:\n",
        "    def __init__(self):\n",
        "        # Set up Architecture of Neural Network\n",
        "        self.input = 784\n",
        "        self.hiddenNodes = 16\n",
        "        self.outputNodes = 10\n",
        "        \n",
        "        # Initial Weights\n",
        "        # 784x16 Matrix Array for the First Layer\n",
        "        self.weights1 = np.random.randn(self.input,self.hiddenNodes)\n",
        "        # 16x10 Matrix Array for Hidden to Output\n",
        "        self.weights2 = np.random.randn(self.hiddenNodes, self.outputNodes)"
      ],
      "execution_count": 0,
      "outputs": []
    },
    {
      "cell_type": "code",
      "metadata": {
        "id": "ZL3ExICe1N8K",
        "colab_type": "code",
        "outputId": "29269801-e813-4ab1-d601-e2295766a0f2",
        "colab": {
          "base_uri": "https://localhost:8080/",
          "height": 816
        }
      },
      "source": [
        "nn = NeuralNetwork()\n",
        "\n",
        "print(\"Layer 1 weights: \\n\", nn.weights1)\n",
        "print(\"Layer 2 weights: \\n\", nn.weights2)"
      ],
      "execution_count": 24,
      "outputs": [
        {
          "output_type": "stream",
          "text": [
            "Layer 1 weights: \n",
            " [[-0.55556551  1.34085863  2.30325428 ...  0.40213823  0.34037977\n",
            "  -0.73682421]\n",
            " [ 1.5309029   2.00572164 -0.73580843 ... -1.06279847 -0.9489877\n",
            "   0.08903057]\n",
            " [-0.95656342 -1.14884253  1.33715518 ... -0.28772795  0.17736455\n",
            "   1.46530486]\n",
            " ...\n",
            " [ 1.2375037  -0.43499716 -0.66308861 ...  1.00149795 -0.74504202\n",
            "   1.25030762]\n",
            " [-0.36719709  0.36561068  0.66473998 ... -0.72909737  0.72262694\n",
            "  -0.26693736]\n",
            " [ 0.27073725 -0.53939845  0.46027791 ... -1.49810565  0.1943317\n",
            "  -0.78177083]]\n",
            "Layer 2 weights: \n",
            " [[-0.26118615 -0.60550628 -0.19809427  0.47862116 -1.51514807 -1.65344064\n",
            "   0.41024897  0.29685017 -0.35725428 -1.04867319]\n",
            " [ 0.43409623  0.05921039 -2.01137652  0.89125429 -1.69350264  0.86584317\n",
            "  -1.69167661  1.39235737 -0.95856409 -0.23897538]\n",
            " [-0.50890673 -0.85884013 -0.64763916 -0.79694664  0.57240944 -1.25077051\n",
            "  -1.11937665  0.21671291 -0.02838902 -0.53693663]\n",
            " [-0.34686957  1.02228941 -0.57329003 -0.16278701  0.04750091 -0.54913585\n",
            "   1.81055887 -0.14572562 -0.74777007  1.90739461]\n",
            " [ 0.95025511 -0.47012052  1.02316739 -0.09006183  1.13573637 -0.66350808\n",
            "   0.56280126  0.19109826  1.63861417  1.56683293]\n",
            " [ 0.59074828  0.40854835  0.6434344   1.05936337  0.01460114 -0.84044106\n",
            "  -0.56570358  0.75795937  0.46746352  0.19009755]\n",
            " [ 2.84289747  1.30841502 -0.13534024  2.5734564  -0.75212995 -0.42525498\n",
            "   0.70547953 -1.44684499 -0.68079467  0.63491653]\n",
            " [-0.12982372  0.33982747  1.75206462 -1.38068403  0.20978442  0.28629402\n",
            "  -1.00797564  1.76563477  0.86017718  0.6262563 ]\n",
            " [-0.19445089  0.82890363 -0.42428497 -0.80393365 -0.00507946 -0.07483235\n",
            "   2.27378563  0.00768433  1.20082686 -0.91604642]\n",
            " [ 0.1094744  -0.34810644  0.21045085 -0.49482524  0.24028577 -1.20519466\n",
            "   0.1524813  -1.14573342 -1.81170052 -0.71687156]\n",
            " [ 0.42541421 -1.07055112 -0.8679916  -0.27888595 -1.65710755  1.2860332\n",
            "   0.86809959  0.55226852  1.79534521 -0.73554894]\n",
            " [ 0.51847308  0.43403937  0.3124427   0.30055163  1.22342852 -0.41723232\n",
            "  -0.78909493 -1.37488718 -0.28327603 -1.2686939 ]\n",
            " [ 0.28854004 -2.23409406 -0.85377511  1.36109365 -1.67980066  0.20112703\n",
            "   0.31366929  1.88001155 -1.00324599  0.66046245]\n",
            " [ 1.59088788 -0.99164378 -1.58732469 -1.27093085  0.54355626 -0.64248745\n",
            "   2.26608994 -0.18373518 -2.42414686  1.94454666]\n",
            " [-0.91106774  0.48950927 -0.85859876  1.62852581  0.25984898  0.84260112\n",
            "   0.18335373 -2.93545868  0.45078617  2.01812813]\n",
            " [-0.37416954 -0.56358542  0.44621374 -0.14867031  0.24144201 -0.34442941\n",
            "   0.74844608  0.79310437  1.46457488 -1.26463325]]\n"
          ],
          "name": "stdout"
        }
      ]
    },
    {
      "cell_type": "code",
      "metadata": {
        "id": "OB1Maggg1N8d",
        "colab_type": "code",
        "colab": {}
      },
      "source": [
        "class NeuralNetwork:\n",
        "    def __init__(self):\n",
        "        # Set up Architecture of Neural Network\n",
        "        self.input = 784\n",
        "        self.hiddenNodes = 16\n",
        "        self.outputNodes = 10\n",
        "        \n",
        "        # Initial Weights\n",
        "        #7843x16 Matrix Array for the First Layer\n",
        "        self.weights1 = np.random.randn(self.input,self.hiddenNodes)\n",
        "        # 16x10 Matrix Array for Hidden to Output\n",
        "        self.weights2 = np.random.randn(self.hiddenNodes, self.outputNodes)\n",
        "    \n",
        "    def sigmoid(self, x):\n",
        "        return 1 / (1+np.exp(-x))\n",
        "    \n",
        "    def feed_forward(self,X):\n",
        "        \"\"\"\n",
        "        Calculate the NN inference using feed forward.\n",
        "        \"\"\"\n",
        "        \n",
        "        # Weighted sum of inputs & hidden\n",
        "        self.hidden_sum = np.dot(X, self.weights1)\n",
        "        \n",
        "        # Activations of weighted sum\n",
        "        self.activated_hidden = self.sigmoid(self.hidden_sum)\n",
        "        \n",
        "        # Weighted sum between hidden and output\n",
        "        self.output_sum = np.dot(self.activated_hidden, self.weights2)\n",
        "        \n",
        "        # Final Activation of output\n",
        "        self.activated_output = self.sigmoid(self.output_sum)\n",
        "        \n",
        "        return self.activated_output"
      ],
      "execution_count": 0,
      "outputs": []
    },
    {
      "cell_type": "code",
      "metadata": {
        "id": "-Rg_rXQs1N8l",
        "colab_type": "code",
        "outputId": "9d193703-d74c-4a7e-dd1c-ec1dcd14cc9b",
        "colab": {
          "base_uri": "https://localhost:8080/",
          "height": 1000
        }
      },
      "source": [
        "# generate an output\n",
        "\n",
        "nn = NeuralNetwork()\n",
        "\n",
        "print(X_train[0])\n",
        "output = nn.feed_forward(X_train[0])\n",
        "print(\"output\", output)"
      ],
      "execution_count": 26,
      "outputs": [
        {
          "output_type": "stream",
          "text": [
            "[  0.   0.   0.   0.   0.   0.   0.   0.   0.   0.   0.   0.   0.   0.\n",
            "   0.   0.   0.   0.   0.   0.   0.   0.   0.   0.   0.   0.   0.   0.\n",
            "   0.   0.   0.   0.   0.   0.   0.   0.   0.   0.   0.   0.   0.   0.\n",
            "   0.   0.   0.   0.   0.   0.   0.   0.   0.   0.   0.   0.   0.   0.\n",
            "   0.   0.   0.   0.   0.   0.   0.   0.   0.   0.   0.   0.   0.   0.\n",
            "   0.   0.   0.   0.   0.   0.   0.   0.   0.   0.   0.   0.   0.   0.\n",
            "   0.   0.   0.   0.   0.   0.   0.   0.   0.   0.   0.   0.   0.   0.\n",
            "   0.   0.   0.   0.   0.   0.   0.   0.   0.   0.   0.   0.   0.   0.\n",
            "   0.   0.   0.   0.   0.   0.   0.   0.   0.   0.   0.   0.   0.   0.\n",
            "   0.   0.   0.   0.   0.   0.   0.   0.   0.   0.   0.   0.   0.   0.\n",
            "   0.   0.   0.   0.   0.   0.   0.   0.   0.   0.   0.   0.   3.  18.\n",
            "  18.  18. 126. 136. 175.  26. 166. 255. 247. 127.   0.   0.   0.   0.\n",
            "   0.   0.   0.   0.   0.   0.   0.   0.  30.  36.  94. 154. 170. 253.\n",
            " 253. 253. 253. 253. 225. 172. 253. 242. 195.  64.   0.   0.   0.   0.\n",
            "   0.   0.   0.   0.   0.   0.   0.  49. 238. 253. 253. 253. 253. 253.\n",
            " 253. 253. 253. 251.  93.  82.  82.  56.  39.   0.   0.   0.   0.   0.\n",
            "   0.   0.   0.   0.   0.   0.   0.  18. 219. 253. 253. 253. 253. 253.\n",
            " 198. 182. 247. 241.   0.   0.   0.   0.   0.   0.   0.   0.   0.   0.\n",
            "   0.   0.   0.   0.   0.   0.   0.   0.  80. 156. 107. 253. 253. 205.\n",
            "  11.   0.  43. 154.   0.   0.   0.   0.   0.   0.   0.   0.   0.   0.\n",
            "   0.   0.   0.   0.   0.   0.   0.   0.   0.  14.   1. 154. 253.  90.\n",
            "   0.   0.   0.   0.   0.   0.   0.   0.   0.   0.   0.   0.   0.   0.\n",
            "   0.   0.   0.   0.   0.   0.   0.   0.   0.   0.   0. 139. 253. 190.\n",
            "   2.   0.   0.   0.   0.   0.   0.   0.   0.   0.   0.   0.   0.   0.\n",
            "   0.   0.   0.   0.   0.   0.   0.   0.   0.   0.   0.  11. 190. 253.\n",
            "  70.   0.   0.   0.   0.   0.   0.   0.   0.   0.   0.   0.   0.   0.\n",
            "   0.   0.   0.   0.   0.   0.   0.   0.   0.   0.   0.   0.  35. 241.\n",
            " 225. 160. 108.   1.   0.   0.   0.   0.   0.   0.   0.   0.   0.   0.\n",
            "   0.   0.   0.   0.   0.   0.   0.   0.   0.   0.   0.   0.   0.  81.\n",
            " 240. 253. 253. 119.  25.   0.   0.   0.   0.   0.   0.   0.   0.   0.\n",
            "   0.   0.   0.   0.   0.   0.   0.   0.   0.   0.   0.   0.   0.   0.\n",
            "  45. 186. 253. 253. 150.  27.   0.   0.   0.   0.   0.   0.   0.   0.\n",
            "   0.   0.   0.   0.   0.   0.   0.   0.   0.   0.   0.   0.   0.   0.\n",
            "   0.  16.  93. 252. 253. 187.   0.   0.   0.   0.   0.   0.   0.   0.\n",
            "   0.   0.   0.   0.   0.   0.   0.   0.   0.   0.   0.   0.   0.   0.\n",
            "   0.   0.   0. 249. 253. 249.  64.   0.   0.   0.   0.   0.   0.   0.\n",
            "   0.   0.   0.   0.   0.   0.   0.   0.   0.   0.   0.   0.   0.   0.\n",
            "  46. 130. 183. 253. 253. 207.   2.   0.   0.   0.   0.   0.   0.   0.\n",
            "   0.   0.   0.   0.   0.   0.   0.   0.   0.   0.   0.   0.  39. 148.\n",
            " 229. 253. 253. 253. 250. 182.   0.   0.   0.   0.   0.   0.   0.   0.\n",
            "   0.   0.   0.   0.   0.   0.   0.   0.   0.   0.  24. 114. 221. 253.\n",
            " 253. 253. 253. 201.  78.   0.   0.   0.   0.   0.   0.   0.   0.   0.\n",
            "   0.   0.   0.   0.   0.   0.   0.   0.  23.  66. 213. 253. 253. 253.\n",
            " 253. 198.  81.   2.   0.   0.   0.   0.   0.   0.   0.   0.   0.   0.\n",
            "   0.   0.   0.   0.   0.   0.  18. 171. 219. 253. 253. 253. 253. 195.\n",
            "  80.   9.   0.   0.   0.   0.   0.   0.   0.   0.   0.   0.   0.   0.\n",
            "   0.   0.   0.   0.  55. 172. 226. 253. 253. 253. 253. 244. 133.  11.\n",
            "   0.   0.   0.   0.   0.   0.   0.   0.   0.   0.   0.   0.   0.   0.\n",
            "   0.   0.   0.   0. 136. 253. 253. 253. 212. 135. 132.  16.   0.   0.\n",
            "   0.   0.   0.   0.   0.   0.   0.   0.   0.   0.   0.   0.   0.   0.\n",
            "   0.   0.   0.   0.   0.   0.   0.   0.   0.   0.   0.   0.   0.   0.\n",
            "   0.   0.   0.   0.   0.   0.   0.   0.   0.   0.   0.   0.   0.   0.\n",
            "   0.   0.   0.   0.   0.   0.   0.   0.   0.   0.   0.   0.   0.   0.\n",
            "   0.   0.   0.   0.   0.   0.   0.   0.   0.   0.   0.   0.   0.   0.\n",
            "   0.   0.   0.   0.   0.   0.   0.   0.   0.   0.   0.   0.   0.   0.\n",
            "   0.   0.   0.   0.   0.   0.   0.   0.   0.   0.   0.   0.   0.   0.]\n",
            "output [0.00167139 0.03278666 0.10875446 0.97476585 0.85334149 0.98179956\n",
            " 0.99962131 0.2338801  0.99943135 0.02283034]\n"
          ],
          "name": "stdout"
        },
        {
          "output_type": "stream",
          "text": [
            "/usr/local/lib/python3.6/dist-packages/ipykernel_launcher.py:15: RuntimeWarning: overflow encountered in exp\n",
            "  from ipykernel import kernelapp as app\n"
          ],
          "name": "stderr"
        }
      ]
    },
    {
      "cell_type": "code",
      "metadata": {
        "id": "qVQk7bRN1N8y",
        "colab_type": "code",
        "outputId": "8de7f3cb-2f18-4b02-9279-af5226596e8d",
        "colab": {
          "base_uri": "https://localhost:8080/",
          "height": 493
        }
      },
      "source": [
        "# calculate error\n",
        "\n",
        "output_all = nn.feed_forward(X_train)\n",
        "error_all = y_train - output_all\n",
        "print(output_all)\n",
        "print(error_all)"
      ],
      "execution_count": 27,
      "outputs": [
        {
          "output_type": "stream",
          "text": [
            "[[1.67138840e-03 3.27866636e-02 1.08754459e-01 ... 2.33880098e-01\n",
            "  9.99431353e-01 2.28303412e-02]\n",
            " [2.49533585e-04 3.31742967e-02 9.48553199e-01 ... 3.74109616e-03\n",
            "  7.23320150e-01 6.48038242e-04]\n",
            " [3.11223425e-02 6.08400613e-01 8.27272166e-01 ... 7.12863869e-02\n",
            "  9.43368269e-01 6.92161087e-02]\n",
            " ...\n",
            " [1.48583663e-02 2.93735420e-01 2.56205796e-01 ... 2.84481760e-01\n",
            "  9.88269085e-01 1.51431133e-02]\n",
            " [7.10926406e-03 1.66473882e-01 9.95963154e-01 ... 3.91633327e-03\n",
            "  8.22250699e-01 6.64650980e-03]\n",
            " [9.72493677e-02 6.86913531e-01 9.74174958e-01 ... 4.83727527e-01\n",
            "  4.61917650e-01 2.77725964e-01]]\n",
            "[[-1.67138840e-03 -3.27866636e-02 -1.08754459e-01 ... -2.33880098e-01\n",
            "  -9.99431353e-01 -2.28303412e-02]\n",
            " [ 9.99750466e-01 -3.31742967e-02 -9.48553199e-01 ... -3.74109616e-03\n",
            "  -7.23320150e-01 -6.48038242e-04]\n",
            " [-3.11223425e-02 -6.08400613e-01 -8.27272166e-01 ... -7.12863869e-02\n",
            "  -9.43368269e-01 -6.92161087e-02]\n",
            " ...\n",
            " [-1.48583663e-02 -2.93735420e-01 -2.56205796e-01 ... -2.84481760e-01\n",
            "  -9.88269085e-01 -1.51431133e-02]\n",
            " [-7.10926406e-03 -1.66473882e-01 -9.95963154e-01 ... -3.91633327e-03\n",
            "  -8.22250699e-01 -6.64650980e-03]\n",
            " [-9.72493677e-02 -6.86913531e-01 -9.74174958e-01 ... -4.83727527e-01\n",
            "   5.38082350e-01 -2.77725964e-01]]\n"
          ],
          "name": "stdout"
        },
        {
          "output_type": "stream",
          "text": [
            "/usr/local/lib/python3.6/dist-packages/ipykernel_launcher.py:15: RuntimeWarning: overflow encountered in exp\n",
            "  from ipykernel import kernelapp as app\n"
          ],
          "name": "stderr"
        }
      ]
    },
    {
      "cell_type": "code",
      "metadata": {
        "id": "ESmdjobE1N86",
        "colab_type": "code",
        "colab": {}
      },
      "source": [
        "class NeuralNetwork:\n",
        "    def __init__(self):\n",
        "        # Set up Architecture of Neural Network\n",
        "        self.input = 784\n",
        "        self.hiddenNodes = 16\n",
        "        self.outputNodes = 10\n",
        "        \n",
        "        # Initial Weights\n",
        "        # 3x4 Matrix Array for the First Layer\n",
        "        self.weights1 = np.random.randn(self.input,self.hiddenNodes)\n",
        "        # 4x1 Matrix Array for Hidden to Output\n",
        "        self.weights2 = np.random.randn(self.hiddenNodes, self.outputNodes)\n",
        "    \n",
        "    def sigmoid(self, x):\n",
        "        return 1 / (1+np.exp(-x))\n",
        "    \n",
        "    def sigmoidPrime(self, x):\n",
        "        return x * (1 - x)\n",
        "    \n",
        "    def feed_forward(self,X):\n",
        "        \"\"\"\n",
        "        Calculate the NN inference using feed forward.\n",
        "        \"\"\"\n",
        "        \n",
        "        # Weighted sum of inputs & hidden\n",
        "        self.hidden_sum = np.dot(X, self.weights1)\n",
        "        \n",
        "        # Activations of weighted sum\n",
        "        self.activated_hidden = self.sigmoid(self.hidden_sum)\n",
        "        \n",
        "        # Weighted sum between hidden and output\n",
        "        self.output_sum = np.dot(self.activated_hidden, self.weights2)\n",
        "        \n",
        "        # Final Activation of output\n",
        "        self.activated_output = self.sigmoid(self.output_sum)\n",
        "        \n",
        "        return self.activated_output\n",
        "    \n",
        "    def backward(self, X, y, o):\n",
        "        \"\"\"\n",
        "        Backward propagate through the network\n",
        "        \"\"\"\n",
        "        self.o_error = y - o #error in output\n",
        "        self.o_delta = self.o_error * self.sigmoidPrime(o) # apply derivative of sigmoid to error\n",
        "        \n",
        "        self.z2_error = self.o_delta.dot(self.weights2.T) # z2 error: how much our hidden layer weights were off\n",
        "        self.z2_delta = self.z2_error*self.sigmoidPrime(self.activated_hidden)\n",
        "        \n",
        "        self.weights1 += X.T.dot(self.z2_delta) #Adjust first set (input => hidden) weights\n",
        "        self.weights2 += self.activated_hidden.T.dot(self.o_delta) #adjust second set (hidden => output) weights\n",
        "        \n",
        "    def train(self, X, y):\n",
        "        o = self.feed_forward(X)\n",
        "        self.backward(X, y, o)"
      ],
      "execution_count": 0,
      "outputs": []
    },
    {
      "cell_type": "code",
      "metadata": {
        "id": "iitcQceO1N9L",
        "colab_type": "code",
        "outputId": "cdad3814-dba5-467c-834a-61b6bc132210",
        "colab": {
          "base_uri": "https://localhost:8080/",
          "height": 1000
        }
      },
      "source": [
        "nn = NeuralNetwork()\n",
        "\n",
        "for i in range(1000):\n",
        "    if ((i+1) % 100 ==0):\n",
        "        print('+' + '---' * 3 + f'EPOCH {i+1}' + '---'*3 + '+')\n",
        "        print('Predicted Output: \\n', str(nn.feed_forward(X_train)))\n",
        "        print(\"Loss: \\n\", str(np.mean(np.square(y_train - nn.feed_forward(X_train)))))\n",
        "    nn.train(X_train, y_train)"
      ],
      "execution_count": 0,
      "outputs": [
        {
          "output_type": "stream",
          "text": [
            "/usr/local/lib/python3.6/dist-packages/ipykernel_launcher.py:15: RuntimeWarning: overflow encountered in exp\n",
            "  from ipykernel import kernelapp as app\n"
          ],
          "name": "stderr"
        },
        {
          "output_type": "stream",
          "text": [
            "+---------EPOCH 100---------+\n",
            "Predicted Output: \n",
            " [[0. 0. 0. ... 0. 0. 0.]\n",
            " [0. 0. 0. ... 0. 0. 0.]\n",
            " [0. 0. 0. ... 0. 0. 0.]\n",
            " ...\n",
            " [0. 0. 0. ... 0. 0. 0.]\n",
            " [0. 0. 0. ... 0. 0. 0.]\n",
            " [0. 0. 0. ... 0. 0. 0.]]\n",
            "Loss: \n",
            " 0.1\n",
            "+---------EPOCH 200---------+\n",
            "Predicted Output: \n",
            " [[0. 0. 0. ... 0. 0. 0.]\n",
            " [0. 0. 0. ... 0. 0. 0.]\n",
            " [0. 0. 0. ... 0. 0. 0.]\n",
            " ...\n",
            " [0. 0. 0. ... 0. 0. 0.]\n",
            " [0. 0. 0. ... 0. 0. 0.]\n",
            " [0. 0. 0. ... 0. 0. 0.]]\n",
            "Loss: \n",
            " 0.1\n",
            "+---------EPOCH 300---------+\n",
            "Predicted Output: \n",
            " [[0. 0. 0. ... 0. 0. 0.]\n",
            " [0. 0. 0. ... 0. 0. 0.]\n",
            " [0. 0. 0. ... 0. 0. 0.]\n",
            " ...\n",
            " [0. 0. 0. ... 0. 0. 0.]\n",
            " [0. 0. 0. ... 0. 0. 0.]\n",
            " [0. 0. 0. ... 0. 0. 0.]]\n",
            "Loss: \n",
            " 0.1\n",
            "+---------EPOCH 400---------+\n",
            "Predicted Output: \n",
            " [[0. 0. 0. ... 0. 0. 0.]\n",
            " [0. 0. 0. ... 0. 0. 0.]\n",
            " [0. 0. 0. ... 0. 0. 0.]\n",
            " ...\n",
            " [0. 0. 0. ... 0. 0. 0.]\n",
            " [0. 0. 0. ... 0. 0. 0.]\n",
            " [0. 0. 0. ... 0. 0. 0.]]\n",
            "Loss: \n",
            " 0.1\n",
            "+---------EPOCH 500---------+\n",
            "Predicted Output: \n",
            " [[0. 0. 0. ... 0. 0. 0.]\n",
            " [0. 0. 0. ... 0. 0. 0.]\n",
            " [0. 0. 0. ... 0. 0. 0.]\n",
            " ...\n",
            " [0. 0. 0. ... 0. 0. 0.]\n",
            " [0. 0. 0. ... 0. 0. 0.]\n",
            " [0. 0. 0. ... 0. 0. 0.]]\n",
            "Loss: \n",
            " 0.1\n",
            "+---------EPOCH 600---------+\n",
            "Predicted Output: \n",
            " [[0. 0. 0. ... 0. 0. 0.]\n",
            " [0. 0. 0. ... 0. 0. 0.]\n",
            " [0. 0. 0. ... 0. 0. 0.]\n",
            " ...\n",
            " [0. 0. 0. ... 0. 0. 0.]\n",
            " [0. 0. 0. ... 0. 0. 0.]\n",
            " [0. 0. 0. ... 0. 0. 0.]]\n",
            "Loss: \n",
            " 0.1\n",
            "+---------EPOCH 700---------+\n",
            "Predicted Output: \n",
            " [[0. 0. 0. ... 0. 0. 0.]\n",
            " [0. 0. 0. ... 0. 0. 0.]\n",
            " [0. 0. 0. ... 0. 0. 0.]\n",
            " ...\n",
            " [0. 0. 0. ... 0. 0. 0.]\n",
            " [0. 0. 0. ... 0. 0. 0.]\n",
            " [0. 0. 0. ... 0. 0. 0.]]\n",
            "Loss: \n",
            " 0.1\n"
          ],
          "name": "stdout"
        }
      ]
    },
    {
      "cell_type": "markdown",
      "metadata": {
        "colab_type": "text",
        "id": "zv_3xNMjzdLI"
      },
      "source": [
        "## Stretch Goals:\n",
        "\n",
        "- Use Hyperparameter Tuning to make the accuracy of your models as high as possible. (error as low as possible)\n",
        "- Use Cross Validation techniques to get more consistent results with your model.\n",
        "- Use GridSearchCV to try different combinations of hyperparameters. \n",
        "- Start looking into other types of Keras layers for CNNs and RNNs maybe try and build a CNN model for fashion-MNIST to see how the results compare."
      ]
    }
  ]
}